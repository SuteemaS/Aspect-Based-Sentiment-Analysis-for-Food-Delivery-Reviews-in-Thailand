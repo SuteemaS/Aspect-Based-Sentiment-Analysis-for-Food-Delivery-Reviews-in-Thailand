{
 "cells": [
  {
   "cell_type": "markdown",
   "metadata": {
    "toc": true
   },
   "source": [
    "<h1>Table of Contents<span class=\"tocSkip\"></span></h1>\n",
    "<div class=\"toc\"><ul class=\"toc-item\"><li><span><a href=\"#Import-Library\" data-toc-modified-id=\"Import-Library-1\"><span class=\"toc-item-num\">1&nbsp;&nbsp;</span>Import Library</a></span></li><li><span><a href=\"#Load-Data\" data-toc-modified-id=\"Load-Data-2\"><span class=\"toc-item-num\">2&nbsp;&nbsp;</span>Load Data</a></span></li><li><span><a href=\"#EDA\" data-toc-modified-id=\"EDA-3\"><span class=\"toc-item-num\">3&nbsp;&nbsp;</span>EDA</a></span><ul class=\"toc-item\"><li><span><a href=\"#Drop-columns\" data-toc-modified-id=\"Drop-columns-3.1\"><span class=\"toc-item-num\">3.1&nbsp;&nbsp;</span>Drop columns</a></span></li><li><span><a href=\"#Check-Missing-Value\" data-toc-modified-id=\"Check-Missing-Value-3.2\"><span class=\"toc-item-num\">3.2&nbsp;&nbsp;</span>Check Missing Value</a></span></li><li><span><a href=\"#Analytics\" data-toc-modified-id=\"Analytics-3.3\"><span class=\"toc-item-num\">3.3&nbsp;&nbsp;</span>Analytics</a></span></li></ul></li><li><span><a href=\"#Preprocessing\" data-toc-modified-id=\"Preprocessing-4\"><span class=\"toc-item-num\">4&nbsp;&nbsp;</span>Preprocessing</a></span></li><li><span><a href=\"#SVM\" data-toc-modified-id=\"SVM-5\"><span class=\"toc-item-num\">5&nbsp;&nbsp;</span>SVM</a></span></li><li><span><a href=\"#Cross-validation\" data-toc-modified-id=\"Cross-validation-6\"><span class=\"toc-item-num\">6&nbsp;&nbsp;</span>Cross validation</a></span></li><li><span><a href=\"#Grid-Search\" data-toc-modified-id=\"Grid-Search-7\"><span class=\"toc-item-num\">7&nbsp;&nbsp;</span>Grid Search</a></span></li><li><span><a href=\"#Sentiment\" data-toc-modified-id=\"Sentiment-8\"><span class=\"toc-item-num\">8&nbsp;&nbsp;</span>Sentiment</a></span><ul class=\"toc-item\"><li><span><a href=\"#Raw-Data\" data-toc-modified-id=\"Raw-Data-8.1\"><span class=\"toc-item-num\">8.1&nbsp;&nbsp;</span>Raw Data</a></span></li></ul></li></ul></div>"
   ]
  },
  {
   "cell_type": "markdown",
   "metadata": {},
   "source": [
    "## Import Library"
   ]
  },
  {
   "cell_type": "code",
   "execution_count": 1,
   "metadata": {},
   "outputs": [
    {
     "name": "stderr",
     "output_type": "stream",
     "text": [
      "/anaconda3/lib/python3.7/site-packages/sklearn/utils/deprecation.py:144: FutureWarning: The sklearn.neighbors.base module is  deprecated in version 0.22 and will be removed in version 0.24. The corresponding classes / functions should instead be imported from sklearn.neighbors. Anything that cannot be imported from sklearn.neighbors is now part of the private API.\n",
      "  warnings.warn(message, FutureWarning)\n",
      "/anaconda3/lib/python3.7/site-packages/sklearn/utils/deprecation.py:144: FutureWarning: The sklearn.ensemble.bagging module is  deprecated in version 0.22 and will be removed in version 0.24. The corresponding classes / functions should instead be imported from sklearn.ensemble. Anything that cannot be imported from sklearn.ensemble is now part of the private API.\n",
      "  warnings.warn(message, FutureWarning)\n",
      "/anaconda3/lib/python3.7/site-packages/sklearn/utils/deprecation.py:144: FutureWarning: The sklearn.ensemble.base module is  deprecated in version 0.22 and will be removed in version 0.24. The corresponding classes / functions should instead be imported from sklearn.ensemble. Anything that cannot be imported from sklearn.ensemble is now part of the private API.\n",
      "  warnings.warn(message, FutureWarning)\n",
      "/anaconda3/lib/python3.7/site-packages/sklearn/utils/deprecation.py:144: FutureWarning: The sklearn.ensemble.forest module is  deprecated in version 0.22 and will be removed in version 0.24. The corresponding classes / functions should instead be imported from sklearn.ensemble. Anything that cannot be imported from sklearn.ensemble is now part of the private API.\n",
      "  warnings.warn(message, FutureWarning)\n",
      "/anaconda3/lib/python3.7/site-packages/sklearn/utils/deprecation.py:144: FutureWarning: The sklearn.utils.testing module is  deprecated in version 0.22 and will be removed in version 0.24. The corresponding classes / functions should instead be imported from sklearn.utils. Anything that cannot be imported from sklearn.utils is now part of the private API.\n",
      "  warnings.warn(message, FutureWarning)\n",
      "/anaconda3/lib/python3.7/site-packages/sklearn/utils/deprecation.py:144: FutureWarning: The sklearn.metrics.classification module is  deprecated in version 0.22 and will be removed in version 0.24. The corresponding classes / functions should instead be imported from sklearn.metrics. Anything that cannot be imported from sklearn.metrics is now part of the private API.\n",
      "  warnings.warn(message, FutureWarning)\n"
     ]
    }
   ],
   "source": [
    "import numpy as np\n",
    "import pandas as pd \n",
    "import re\n",
    "import pythainlp\n",
    "from pythainlp.corpus.common import thai_words\n",
    "from pythainlp.tokenize import dict_trie, word_tokenize\n",
    "import string\n",
    "from sklearn.model_selection import train_test_split\n",
    "from sklearn.metrics import classification_report, confusion_matrix\n",
    "from sklearn.feature_extraction.text import TfidfTransformer\n",
    "from sklearn.feature_extraction.text import CountVectorizer\n",
    "from sklearn.svm import LinearSVC\n",
    "from sklearn.svm import SVC\n",
    "from sklearn.pipeline import Pipeline\n",
    "from imblearn.over_sampling import SMOTE\n",
    "import glob\n",
    "import matplotlib.pyplot as plt\n",
    "import seaborn as sns\n",
    "import matplotlib.pyplot as plt\n",
    "%matplotlib inline"
   ]
  },
  {
   "cell_type": "markdown",
   "metadata": {},
   "source": [
    "## Load Data"
   ]
  },
  {
   "cell_type": "code",
   "execution_count": 2,
   "metadata": {},
   "outputs": [],
   "source": [
    "filenames = glob.glob(\"final/*.csv\")"
   ]
  },
  {
   "cell_type": "code",
   "execution_count": 3,
   "metadata": {},
   "outputs": [],
   "source": [
    "df = pd.DataFrame()"
   ]
  },
  {
   "cell_type": "code",
   "execution_count": 4,
   "metadata": {},
   "outputs": [],
   "source": [
    "for filename in filenames:\n",
    "    temp = pd.read_csv(filename)\n",
    "    company = filename.split(\"/\")[1].split(\"_\")[0]\n",
    "    temp[\"company\"] = company\n",
    "    df = df.append(temp,ignore_index = True)"
   ]
  },
  {
   "cell_type": "code",
   "execution_count": 5,
   "metadata": {
    "scrolled": false
   },
   "outputs": [
    {
     "data": {
      "text/html": [
       "<div>\n",
       "<style scoped>\n",
       "    .dataframe tbody tr th:only-of-type {\n",
       "        vertical-align: middle;\n",
       "    }\n",
       "\n",
       "    .dataframe tbody tr th {\n",
       "        vertical-align: top;\n",
       "    }\n",
       "\n",
       "    .dataframe thead th {\n",
       "        text-align: right;\n",
       "    }\n",
       "</style>\n",
       "<table border=\"1\" class=\"dataframe\">\n",
       "  <thead>\n",
       "    <tr style=\"text-align: right;\">\n",
       "      <th></th>\n",
       "      <th>date</th>\n",
       "      <th>time</th>\n",
       "      <th>username</th>\n",
       "      <th>tweet</th>\n",
       "      <th>Food Delivery</th>\n",
       "      <th>Aspect</th>\n",
       "      <th>Sentiment</th>\n",
       "      <th>company</th>\n",
       "    </tr>\n",
       "  </thead>\n",
       "  <tbody>\n",
       "    <tr>\n",
       "      <th>0</th>\n",
       "      <td>2020-08-23</td>\n",
       "      <td>16:30:40</td>\n",
       "      <td>pinkzaa_zaa</td>\n",
       "      <td>ใช้แต่ #LINEMAN มาตลอด\\n______________________...</td>\n",
       "      <td>Yes</td>\n",
       "      <td>Company</td>\n",
       "      <td>Positive</td>\n",
       "      <td>LINEMAN</td>\n",
       "    </tr>\n",
       "    <tr>\n",
       "      <th>1</th>\n",
       "      <td>2020-08-23</td>\n",
       "      <td>11:29:02</td>\n",
       "      <td>roseapple110</td>\n",
       "      <td>มีคนเจอปัญหาไรเดอร์โทรหาไม่ติดตอนที่ปิดแอปทิ้ง...</td>\n",
       "      <td>Yes</td>\n",
       "      <td>Employee</td>\n",
       "      <td>Negative</td>\n",
       "      <td>LINEMAN</td>\n",
       "    </tr>\n",
       "    <tr>\n",
       "      <th>2</th>\n",
       "      <td>2020-08-22</td>\n",
       "      <td>18:58:12</td>\n",
       "      <td>twitneearoi</td>\n",
       "      <td>เมนูโปรดของแมวอ้วนอย่างเรา วันนี้ขอเสนออออ \"ข้...</td>\n",
       "      <td>No</td>\n",
       "      <td>NaN</td>\n",
       "      <td>NaN</td>\n",
       "      <td>LINEMAN</td>\n",
       "    </tr>\n",
       "    <tr>\n",
       "      <th>3</th>\n",
       "      <td>2020-08-22</td>\n",
       "      <td>17:08:50</td>\n",
       "      <td>belloir_sj</td>\n",
       "      <td>ขั้นกว่าของการเลี้ยงหมี คือการอาบน้ำด้วย #แลคต...</td>\n",
       "      <td>No</td>\n",
       "      <td>NaN</td>\n",
       "      <td>NaN</td>\n",
       "      <td>LINEMAN</td>\n",
       "    </tr>\n",
       "    <tr>\n",
       "      <th>4</th>\n",
       "      <td>2020-08-22</td>\n",
       "      <td>16:23:15</td>\n",
       "      <td>ifiend_</td>\n",
       "      <td>แต่ #lineman โปรลดเข้าร่วมเยอะกว่านะ</td>\n",
       "      <td>Yes</td>\n",
       "      <td>Price</td>\n",
       "      <td>Positive</td>\n",
       "      <td>LINEMAN</td>\n",
       "    </tr>\n",
       "  </tbody>\n",
       "</table>\n",
       "</div>"
      ],
      "text/plain": [
       "         date      time      username  \\\n",
       "0  2020-08-23  16:30:40   pinkzaa_zaa   \n",
       "1  2020-08-23  11:29:02  roseapple110   \n",
       "2  2020-08-22  18:58:12   twitneearoi   \n",
       "3  2020-08-22  17:08:50    belloir_sj   \n",
       "4  2020-08-22  16:23:15       ifiend_   \n",
       "\n",
       "                                               tweet Food Delivery    Aspect  \\\n",
       "0  ใช้แต่ #LINEMAN มาตลอด\\n______________________...           Yes   Company   \n",
       "1  มีคนเจอปัญหาไรเดอร์โทรหาไม่ติดตอนที่ปิดแอปทิ้ง...           Yes  Employee   \n",
       "2  เมนูโปรดของแมวอ้วนอย่างเรา วันนี้ขอเสนออออ \"ข้...            No       NaN   \n",
       "3  ขั้นกว่าของการเลี้ยงหมี คือการอาบน้ำด้วย #แลคต...            No       NaN   \n",
       "4               แต่ #lineman โปรลดเข้าร่วมเยอะกว่านะ           Yes     Price   \n",
       "\n",
       "  Sentiment  company  \n",
       "0  Positive  LINEMAN  \n",
       "1  Negative  LINEMAN  \n",
       "2       NaN  LINEMAN  \n",
       "3       NaN  LINEMAN  \n",
       "4  Positive  LINEMAN  "
      ]
     },
     "execution_count": 5,
     "metadata": {},
     "output_type": "execute_result"
    }
   ],
   "source": [
    "df.head()"
   ]
  },
  {
   "cell_type": "markdown",
   "metadata": {},
   "source": [
    "## EDA"
   ]
  },
  {
   "cell_type": "markdown",
   "metadata": {},
   "source": [
    "### Drop columns"
   ]
  },
  {
   "cell_type": "code",
   "execution_count": 6,
   "metadata": {},
   "outputs": [],
   "source": [
    "df.drop(columns=[\"date\",\"time\",\"username\"],inplace=True)"
   ]
  },
  {
   "cell_type": "markdown",
   "metadata": {},
   "source": [
    "### Check Missing Value"
   ]
  },
  {
   "cell_type": "code",
   "execution_count": 7,
   "metadata": {
    "scrolled": false
   },
   "outputs": [
    {
     "data": {
      "text/plain": [
       "tweet               0\n",
       "Food Delivery       0\n",
       "Aspect           3339\n",
       "Sentiment        3340\n",
       "company             0\n",
       "dtype: int64"
      ]
     },
     "execution_count": 7,
     "metadata": {},
     "output_type": "execute_result"
    }
   ],
   "source": [
    "np.sum(df.isnull())"
   ]
  },
  {
   "cell_type": "code",
   "execution_count": 8,
   "metadata": {},
   "outputs": [],
   "source": [
    "df.dropna(inplace=True)"
   ]
  },
  {
   "cell_type": "code",
   "execution_count": 9,
   "metadata": {},
   "outputs": [],
   "source": [
    "df.reset_index(drop=True, inplace=True)"
   ]
  },
  {
   "cell_type": "code",
   "execution_count": 10,
   "metadata": {
    "scrolled": false
   },
   "outputs": [
    {
     "data": {
      "text/plain": [
       "tweet            0\n",
       "Food Delivery    0\n",
       "Aspect           0\n",
       "Sentiment        0\n",
       "company          0\n",
       "dtype: int64"
      ]
     },
     "execution_count": 10,
     "metadata": {},
     "output_type": "execute_result"
    }
   ],
   "source": [
    "np.sum(df.isnull())"
   ]
  },
  {
   "cell_type": "markdown",
   "metadata": {},
   "source": [
    "### Analytics"
   ]
  },
  {
   "cell_type": "code",
   "execution_count": 11,
   "metadata": {},
   "outputs": [],
   "source": [
    "aspect_counts = (df.groupby(['Aspect'])['Sentiment']\n",
    "                     .value_counts(normalize=True)\n",
    "                     .rename('percentage')\n",
    "                     .mul(100)\n",
    "                     .reset_index()\n",
    "                     .sort_values('Sentiment'))"
   ]
  },
  {
   "cell_type": "code",
   "execution_count": 12,
   "metadata": {
    "scrolled": false
   },
   "outputs": [
    {
     "data": {
      "image/png": "[encoded data removed]",
      "text/plain": [
       "<Figure size 440.875x360 with 1 Axes>"
      ]
     },
     "metadata": {
      "needs_background": "light"
     },
     "output_type": "display_data"
    }
   ],
   "source": [
    "g_1 = sns.catplot(x='Aspect',y='percentage',hue='Sentiment',kind='bar',data=aspect_counts,\n",
    "                  hue_order=['Positive', 'Negative', 'Neutral'],\n",
    "                  col_order=['Company', 'Employee', 'Price', 'System'])\n",
    "g_1.ax.set_ylim(0,100)\n",
    "for p in g_1.ax.patches:\n",
    "    txt = str(p.get_height().round(2)) + '%'\n",
    "    txt_x = p.get_x() \n",
    "    txt_y = p.get_height()\n",
    "    g_1.ax.text(txt_x,txt_y,txt)"
   ]
  },
  {
   "cell_type": "code",
   "execution_count": 13,
   "metadata": {},
   "outputs": [],
   "source": [
    "grab_counts = (df[df['company']=='Grabfood'].groupby(['Aspect'])['Sentiment']\n",
    "                     .value_counts(normalize=True)\n",
    "                     .rename('percentage')\n",
    "                     .mul(100)\n",
    "                     .reset_index()\n",
    "                     .sort_values('Sentiment'))"
   ]
  },
  {
   "cell_type": "code",
   "execution_count": 14,
   "metadata": {},
   "outputs": [
    {
     "data": {
      "image/png": "[encoded data removed]",
      "text/plain": [
       "<Figure size 440.875x360 with 1 Axes>"
      ]
     },
     "metadata": {
      "needs_background": "light"
     },
     "output_type": "display_data"
    }
   ],
   "source": [
    "g_2 = sns.catplot(x='Aspect',y='percentage',hue='Sentiment',kind='bar',data=grab_counts,\n",
    "                  hue_order=['Positive', 'Negative', 'Neutral'],\n",
    "                  col_order=['Company', 'Employee', 'Price', 'System'])\n",
    "g_2.ax.set_ylim(0,100)\n",
    "for p in g_2.ax.patches:\n",
    "    txt = str(p.get_height().round(2)) + '%'\n",
    "    txt_x = p.get_x() \n",
    "    txt_y = p.get_height()\n",
    "    g_2.ax.text(txt_x,txt_y,txt)"
   ]
  },
  {
   "cell_type": "code",
   "execution_count": 15,
   "metadata": {},
   "outputs": [],
   "source": [
    "panda_counts = (df[df['company']=='foodpanda'].groupby(['Aspect'])['Sentiment']\n",
    "                     .value_counts(normalize=True)\n",
    "                     .rename('percentage')\n",
    "                     .mul(100)\n",
    "                     .reset_index()\n",
    "                     .sort_values('Sentiment'))"
   ]
  },
  {
   "cell_type": "code",
   "execution_count": 16,
   "metadata": {},
   "outputs": [
    {
     "name": "stderr",
     "output_type": "stream",
     "text": [
      "posx and posy should be finite values\n",
      "posx and posy should be finite values\n"
     ]
    },
    {
     "data": {
      "image/png": "[encoded data removed]",
      "text/plain": [
       "<Figure size 440.875x360 with 1 Axes>"
      ]
     },
     "metadata": {
      "needs_background": "light"
     },
     "output_type": "display_data"
    }
   ],
   "source": [
    "g_3 = sns.catplot(x='Aspect',y='percentage',hue='Sentiment',kind='bar',data=panda_counts,\n",
    "                  hue_order=['Positive', 'Negative', 'Neutral'],\n",
    "                  col_order=['Company', 'Employee', 'Price', 'System'])\n",
    "g_3.ax.set_ylim(0,100)\n",
    "for p in g_3.ax.patches:\n",
    "    txt = str(p.get_height().round(2)) + '%'\n",
    "    txt_x = p.get_x() \n",
    "    txt_y = p.get_height()\n",
    "    g_3.ax.text(txt_x,txt_y,txt)"
   ]
  },
  {
   "cell_type": "code",
   "execution_count": 17,
   "metadata": {},
   "outputs": [],
   "source": [
    "line_counts = (df[df['company']=='LINEMAN'].groupby(['Aspect'])['Sentiment']\n",
    "                     .value_counts(normalize=True)\n",
    "                     .rename('percentage')\n",
    "                     .mul(100)\n",
    "                     .reset_index()\n",
    "                     .sort_values('Sentiment'))"
   ]
  },
  {
   "cell_type": "code",
   "execution_count": 18,
   "metadata": {
    "scrolled": false
   },
   "outputs": [
    {
     "data": {
      "image/png": "[encoded data removed]",
      "text/plain": [
       "<Figure size 440.875x360 with 1 Axes>"
      ]
     },
     "metadata": {
      "needs_background": "light"
     },
     "output_type": "display_data"
    }
   ],
   "source": [
    "g_4 = sns.catplot(x='Aspect',y='percentage',hue='Sentiment',kind='bar',data=line_counts,\n",
    "                  hue_order=['Positive', 'Negative', 'Neutral'],\n",
    "                  col_order=['Company', 'Employee', 'Price', 'System'])\n",
    "g_4.ax.set_ylim(0,100)\n",
    "for p in g_4.ax.patches:\n",
    "    txt = str(p.get_height().round(2)) + '%'\n",
    "    txt_x = p.get_x() \n",
    "    txt_y = p.get_height()\n",
    "    g_4.ax.text(txt_x,txt_y,txt)"
   ]
  },
  {
   "cell_type": "code",
   "execution_count": 19,
   "metadata": {},
   "outputs": [],
   "source": [
    "employ_counts = (df[df['Aspect']=='Employee'].groupby(['company'])['Sentiment']\n",
    "                     .value_counts(normalize=True)\n",
    "                     .rename('percentage')\n",
    "                     .mul(100)\n",
    "                     .reset_index()\n",
    "                     .sort_values('Sentiment'))"
   ]
  },
  {
   "cell_type": "code",
   "execution_count": 20,
   "metadata": {},
   "outputs": [
    {
     "data": {
      "image/png": "[encoded data removed]",
      "text/plain": [
       "<Figure size 440.875x360 with 1 Axes>"
      ]
     },
     "metadata": {
      "needs_background": "light"
     },
     "output_type": "display_data"
    }
   ],
   "source": [
    "g_5 = sns.catplot(x='company',y='percentage',hue='Sentiment',kind='bar',data=employ_counts,\n",
    "                  hue_order=['Positive', 'Negative', 'Neutral'],\n",
    "                  col_order=['Grabfood', 'foodpanda', 'LINEMAN'])\n",
    "g_5.ax.set_ylim(0,100)\n",
    "for p in g_5.ax.patches:\n",
    "    txt = str(p.get_height().round(2)) + '%'\n",
    "    txt_x = p.get_x() \n",
    "    txt_y = p.get_height()\n",
    "    g_5.ax.text(txt_x,txt_y,txt)"
   ]
  },
  {
   "cell_type": "code",
   "execution_count": 21,
   "metadata": {},
   "outputs": [],
   "source": [
    "system_counts = (df[df['Aspect']=='System'].groupby(['company'])['Sentiment']\n",
    "                     .value_counts(normalize=True)\n",
    "                     .rename('percentage')\n",
    "                     .mul(100)\n",
    "                     .reset_index()\n",
    "                     .sort_values('Sentiment'))"
   ]
  },
  {
   "cell_type": "code",
   "execution_count": 22,
   "metadata": {
    "scrolled": false
   },
   "outputs": [
    {
     "name": "stderr",
     "output_type": "stream",
     "text": [
      "posx and posy should be finite values\n",
      "posx and posy should be finite values\n"
     ]
    },
    {
     "data": {
      "image/png": "[encoded data removed]",
      "text/plain": [
       "<Figure size 440.875x360 with 1 Axes>"
      ]
     },
     "metadata": {
      "needs_background": "light"
     },
     "output_type": "display_data"
    }
   ],
   "source": [
    "g_6 = sns.catplot(x='company',y='percentage',hue='Sentiment',kind='bar',data=system_counts,\n",
    "                  hue_order=['Positive', 'Negative', 'Neutral'],\n",
    "                  col_order=['Grabfood', 'foodpanda', 'LINEMAN'])\n",
    "g_6.ax.set_ylim(0,100)\n",
    "for p in g_6.ax.patches:\n",
    "    txt = str(p.get_height().round(2)) + '%'\n",
    "    txt_x = p.get_x() \n",
    "    txt_y = p.get_height()\n",
    "    g_6.ax.text(txt_x,txt_y,txt)"
   ]
  },
  {
   "cell_type": "markdown",
   "metadata": {},
   "source": [
    "## Preprocessing"
   ]
  },
  {
   "cell_type": "code",
   "execution_count": 80,
   "metadata": {},
   "outputs": [],
   "source": [
    "## Add word in dict\n",
    "custom_dict = set(thai_words())\n",
    "\n",
    "System_ = 'ปิด ปิดร้าน ชั่วคราว ระบบ เงิน ตัด บัตร แคนเซิล ยกเลิก เป็น อาราย อะไร พัง ค้าง ล่ม เสีย สั่ง หา ไม่ได้ เด้ง รอนาน รอ ออเดอร์ พัฒนา ตัดเงิน ตัดบัตร หักเงิน แอป แอพ ปัก ปักหมุด พิกัด ใช้ ยาก ง่าย พัฒนา ไม่ตรง แผนที่ โอน เครดิต คืน รีบ แก้ ด่วน ขัดข้อง ฟื้น แก้ไข จ่ายเงิน ปัญหา ไม่เปิด ไม่เจอ แท็ก คืนเงิน ไม่พบ หา โดนระงับ ตรวจสอบ ขั้นตอน หักตังค์ เงินไม่เข้า เติมเงิน ไม่เข้า จ่ายไม่ได้ แผนที่ แบบใหม่ แบบเก่า แมพ พิกัด บัตรเครดิต บัค ฟีเจอร์ บั๊ก หมุน'\n",
    "System_Aspect = System_.split(' ')\n",
    "\n",
    "Company_ = 'คอลเซนเตอร์ คอลเซ็นเตอร์ รับผิดชอบ เบอร์ ติดต่อ สื่อสาร โทร เมล ยกเลิก เงินคืน ร้องเรียน ไม่ สนใจ เพิกเฉย รอสาย ตัดสาย บริการ ด่วน เมล โทร ศูนย์บริการ เจ้าหน้าที่ ปัญหา ชดเชย เลิกใช้ แบน บริษัท โกงเงิน บัญชี เลิกใช้ แคนเซิล ออเดอร์ ลบ องค์กร ระงับ เลิกสั่ง ประทับใจ โกง รีฟัน แนะนำ ชี้แจง แจ้ง รีวิว คอมเพลน'\n",
    "Company_Aspect = Company_.split(' ')\n",
    "\n",
    "Price_ =  'ราคา ค่าส่ง ส่วนลด โปรโมชั่น คุ้มค่า ไม่คุ้ม แพง ถูก ลด โปร บอกต่อ คุ้ม ค่าบริการ ใช้ไม่ได้ ใช้งานไม่ได้ คุณภาพ ใช้ได้ ซื้อ ขั้นต่ำ ส่งฟรี แกง บาท ส่วนต่าง ลูกค้า ใหม่ เก่า โค้ด เพิ่ม ฟรี ค่าอาหาร ค่าจอดรถ ต่ำกว่า รหัส ภาษี คำสั่งซื้อ เสียเงินเพิ่ม สังน้อย บวกเพิ่ม ขนาดเล็ก ค่าธรรมเนียม แถม เก็บ เล็ก คูปอง หมด เต็ม กด ทัน'\n",
    "\n",
    "Price_Aspect = Price_.split(' ')\n",
    "\n",
    "Employee_ = 'ยกเลิก รอ ช้า นาน ชั่วโมง ชม นาที ไม่ได้รับ ไม่ได้อาหาร ปัญหา รอเพิ่ม ออเดอร์ ผู้ส่ง พนักงาน คนขับ คนส่ง อบรม มารยาท คำพูด รอนาน บริการ นิสัย เละเทะ ไม่รับ สาย ส่ง ไรเดอร์ เสีย คน ติดต่อ ไม่ครบ ขาด หาย ช้า ไม่ครบ คนส่ง พนง สุภาพ นาที ไว ส่ง จัดส่ง ซ้อน ยังไม่ได้ ตั้งแต่ บอกทาง เหวี่ยง ส่งผิด ผิด ปฏิเสธ พี่ พูดเพราะ รับงาน ที่อยู่ หาย คุณ ไม่พอใจ น้อง คุ๊น ด่า เชค เช็ค ตรวจ สภาพ พ่วง ขอบคุณ โทร แซง คิว'\n",
    "\n",
    "Employee_Aspect = Employee_.split(' ')\n",
    "\n",
    "reviews_dict = System_Aspect+Company_Aspect+Price_Aspect+Employee_Aspect\n",
    "\n",
    "for word in reviews_dict:\n",
    "    custom_dict.add(word)\n",
    "\n",
    "trie = dict_trie(dict_source= custom_dict)"
   ]
  },
  {
   "cell_type": "code",
   "execution_count": 81,
   "metadata": {},
   "outputs": [],
   "source": [
    "def preprocessor(text):\n",
    "    \n",
    "    #remove hashtag\n",
    "    hashtag_removed = re.sub(r\"#\\w+\",'', text) \n",
    "    \n",
    "    #remove url\n",
    "    url_removed = re.sub(r'http[s]?://(?:[a-zA-Z]|[0-9]|[$-_@.&+]|[!*\\(\\),]|(?:%[0-9a-fA-F][0-9a-fA-F]))+','', hashtag_removed)\n",
    "    \n",
    "    #word tokenize\n",
    "    word_tokenized = pythainlp.word_tokenize(url_removed,custom_dict=trie,keep_whitespace=False,engine='pyicu')\n",
    "    \n",
    "    #thai filter\n",
    "    word_thai = []\n",
    "    for word in word_tokenized:\n",
    "        if pythainlp.util.isthai(word):\n",
    "            for punc in string.punctuation:\n",
    "                word = word.replace(punc,'')\n",
    "            if word != '':\n",
    "                word_thai.append(word)\n",
    "                \n",
    "    #check vocab\n",
    "    check_vocab = []\n",
    "    for word in word_thai:\n",
    "        if word in custom_dict:\n",
    "            check_vocab.append(word)\n",
    "                \n",
    "    #remove stopword\n",
    "    removed_stopword = []\n",
    "    for word in check_vocab:\n",
    "        if word not in pythainlp.corpus.common.thai_stopwords():\n",
    "            removed_stopword.append(word)\n",
    "    \n",
    "    \n",
    "    #remove name of company\n",
    "    remove_company_name = []\n",
    "    for word in removed_stopword:\n",
    "        if word not in ['ฟู้ดแพนด้า','แกรป','แกป','ไลน์แมน','แพนด้า']:\n",
    "            remove_company_name.append(word)\n",
    "                \n",
    "    return remove_company_name"
   ]
  },
  {
   "cell_type": "markdown",
   "metadata": {},
   "source": [
    "## SVM"
   ]
  },
  {
   "cell_type": "code",
   "execution_count": 82,
   "metadata": {},
   "outputs": [],
   "source": [
    "pipeline = Pipeline([\n",
    "    ('bow', CountVectorizer(analyzer=preprocessor)),  # strings to token integer counts\n",
    "    ('tfidf', TfidfTransformer()),  # integer counts to weighted TF-IDF scores\n",
    "    ('classifier',LinearSVC()),  # train on TF-IDF vectors w/ SVM\n",
    "])"
   ]
  },
  {
   "cell_type": "code",
   "execution_count": 83,
   "metadata": {},
   "outputs": [],
   "source": [
    "X_train, X_test, y_train, y_test = train_test_split(df['tweet'], df[['Aspect', 'Sentiment']], test_size=0.2, random_state=0)"
   ]
  },
  {
   "cell_type": "code",
   "execution_count": 84,
   "metadata": {},
   "outputs": [
    {
     "data": {
      "text/plain": [
       "Pipeline(memory=None,\n",
       "         steps=[('bow',\n",
       "                 CountVectorizer(analyzer=<function preprocessor at 0x1a56d87440>,\n",
       "                                 binary=False, decode_error='strict',\n",
       "                                 dtype=<class 'numpy.int64'>, encoding='utf-8',\n",
       "                                 input='content', lowercase=True, max_df=1.0,\n",
       "                                 max_features=None, min_df=1,\n",
       "                                 ngram_range=(1, 1), preprocessor=None,\n",
       "                                 stop_words=None, strip_accents=None,\n",
       "                                 token_pattern='(?u)\\\\b\\\\w\\\\w+\\\\b',\n",
       "                                 tokenizer=None, vocabulary=None)),\n",
       "                ('tfidf',\n",
       "                 TfidfTransformer(norm='l2', smooth_idf=True,\n",
       "                                  sublinear_tf=False, use_idf=True)),\n",
       "                ('classifier',\n",
       "                 LinearSVC(C=1.0, class_weight=None, dual=True,\n",
       "                           fit_intercept=True, intercept_scaling=1,\n",
       "                           loss='squared_hinge', max_iter=1000,\n",
       "                           multi_class='ovr', penalty='l2', random_state=None,\n",
       "                           tol=0.0001, verbose=0))],\n",
       "         verbose=False)"
      ]
     },
     "execution_count": 84,
     "metadata": {},
     "output_type": "execute_result"
    }
   ],
   "source": [
    "pipeline.fit(X_train, y_train['Aspect'])"
   ]
  },
  {
   "cell_type": "code",
   "execution_count": 85,
   "metadata": {},
   "outputs": [],
   "source": [
    "y_predict = pipeline.predict(X_test)"
   ]
  },
  {
   "cell_type": "code",
   "execution_count": 86,
   "metadata": {
    "scrolled": true
   },
   "outputs": [
    {
     "name": "stdout",
     "output_type": "stream",
     "text": [
      "              precision    recall  f1-score   support\n",
      "\n",
      "     Company       0.56      0.48      0.52       110\n",
      "    Employee       0.74      0.75      0.74       224\n",
      "       Price       0.85      0.90      0.88       248\n",
      "      System       0.63      0.62      0.63       106\n",
      "\n",
      "    accuracy                           0.74       688\n",
      "   macro avg       0.70      0.69      0.69       688\n",
      "weighted avg       0.73      0.74      0.74       688\n",
      "\n",
      "[[ 53  29  11  17]\n",
      " [ 23 168  16  17]\n",
      " [ 10  11 223   4]\n",
      " [  9  20  11  66]]\n"
     ]
    }
   ],
   "source": [
    "print(classification_report(y_test['Aspect'],y_predict))\n",
    "print(confusion_matrix(y_test['Aspect'],y_predict))"
   ]
  },
  {
   "cell_type": "markdown",
   "metadata": {},
   "source": [
    "## Cross validation"
   ]
  },
  {
   "cell_type": "code",
   "execution_count": 92,
   "metadata": {},
   "outputs": [],
   "source": [
    "from sklearn.model_selection import cross_val_score\n",
    "from sklearn.model_selection import cross_val_predict"
   ]
  },
  {
   "cell_type": "code",
   "execution_count": 93,
   "metadata": {
    "scrolled": true
   },
   "outputs": [
    {
     "name": "stdout",
     "output_type": "stream",
     "text": [
      "              precision    recall  f1-score   support\n",
      "\n",
      "     Company       0.59      0.48      0.53       433\n",
      "    Employee       0.72      0.80      0.76       891\n",
      "       Price       0.87      0.92      0.89      1010\n",
      "      System       0.69      0.59      0.64       418\n",
      "\n",
      "    accuracy                           0.76      2752\n",
      "   macro avg       0.72      0.69      0.70      2752\n",
      "weighted avg       0.75      0.76      0.75      2752\n",
      "\n"
     ]
    }
   ],
   "source": [
    "y_train_pred_svm = cross_val_predict(pipeline, X_train, y_train['Aspect'], cv=10, n_jobs=-1)\n",
    "print(classification_report(y_train['Aspect'], y_train_pred_svm))"
   ]
  },
  {
   "cell_type": "markdown",
   "metadata": {},
   "source": [
    "## Grid Search"
   ]
  },
  {
   "cell_type": "code",
   "execution_count": 94,
   "metadata": {},
   "outputs": [
    {
     "name": "stdout",
     "output_type": "stream",
     "text": [
      "Fitting 5 folds for each of 8 candidates, totalling 40 fits\n"
     ]
    },
    {
     "name": "stderr",
     "output_type": "stream",
     "text": [
      "[Parallel(n_jobs=-1)]: Using backend LokyBackend with 8 concurrent workers.\n",
      "[Parallel(n_jobs=-1)]: Done  40 out of  40 | elapsed:  5.8min finished\n"
     ]
    },
    {
     "name": "stdout",
     "output_type": "stream",
     "text": [
      "[[ 54  31  13  12]\n",
      " [ 18 178  18  10]\n",
      " [  8  10 228   2]\n",
      " [  8  21  10  67]]\n",
      "              precision    recall  f1-score   support\n",
      "\n",
      "     Company       0.61      0.49      0.55       110\n",
      "    Employee       0.74      0.79      0.77       224\n",
      "       Price       0.85      0.92      0.88       248\n",
      "      System       0.74      0.63      0.68       106\n",
      "\n",
      "    accuracy                           0.77       688\n",
      "   macro avg       0.73      0.71      0.72       688\n",
      "weighted avg       0.76      0.77      0.76       688\n",
      "\n"
     ]
    }
   ],
   "source": [
    "from sklearn.model_selection import GridSearchCV \n",
    "grid_params_svm = {\n",
    "    'classifier__C': [0.01,0.5,1,1.5],\n",
    "    'classifier__penalty' :['l1', 'l2']\n",
    "    }\n",
    "gs_svm = GridSearchCV(pipeline,grid_params_svm,verbose=1,cv=5,n_jobs=-1)\n",
    "gs_results_svm = gs_svm.fit(X_train, y_train['Aspect'])\n",
    "gs_results_svm.best_score_\n",
    "gs_results_svm.best_estimator_\n",
    "gs_results_svm.best_params_\n",
    "best_svm = gs_results_svm.best_estimator_\n",
    "y_pred_svm = best_svm.predict(X_test)\n",
    "print(confusion_matrix(y_test['Aspect'], y_pred_svm))\n",
    "print(classification_report(y_test['Aspect'], y_pred_svm))"
   ]
  },
  {
   "cell_type": "markdown",
   "metadata": {},
   "source": [
    "## Sentiment"
   ]
  },
  {
   "cell_type": "markdown",
   "metadata": {},
   "source": [
    "### Raw Data"
   ]
  },
  {
   "cell_type": "code",
   "execution_count": 104,
   "metadata": {
    "scrolled": false
   },
   "outputs": [
    {
     "name": "stdout",
     "output_type": "stream",
     "text": [
      "Aspect: Company\n",
      "433 433\n",
      "train\n",
      "              precision    recall  f1-score   support\n",
      "\n",
      "    Negative       0.99      1.00      1.00       157\n",
      "     Neutral       1.00      0.98      0.99       133\n",
      "    Positive       0.99      1.00      0.99       143\n",
      "\n",
      "    accuracy                           0.99       433\n",
      "   macro avg       0.99      0.99      0.99       433\n",
      "weighted avg       0.99      0.99      0.99       433\n",
      "\n",
      "[[157   0   0]\n",
      " [  1 130   2]\n",
      " [  0   0 143]]\n",
      "\n",
      "\n",
      "\n",
      "test\n",
      "              precision    recall  f1-score   support\n",
      "\n",
      "    Negative       0.76      0.78      0.77        49\n",
      "     Neutral       0.50      0.48      0.49        25\n",
      "    Positive       0.81      0.81      0.81        36\n",
      "\n",
      "    accuracy                           0.72       110\n",
      "   macro avg       0.69      0.69      0.69       110\n",
      "weighted avg       0.72      0.72      0.72       110\n",
      "\n",
      "[[38  8  3]\n",
      " [ 9 12  4]\n",
      " [ 3  4 29]]\n",
      "\n",
      "\n",
      "\n",
      "Aspect: Employee\n",
      "891 891\n",
      "train\n",
      "              precision    recall  f1-score   support\n",
      "\n",
      "    Negative       0.99      1.00      0.99       582\n",
      "     Neutral       0.99      0.96      0.97       140\n",
      "    Positive       0.99      0.98      0.99       169\n",
      "\n",
      "    accuracy                           0.99       891\n",
      "   macro avg       0.99      0.98      0.99       891\n",
      "weighted avg       0.99      0.99      0.99       891\n",
      "\n",
      "[[581   1   0]\n",
      " [  4 135   1]\n",
      " [  2   1 166]]\n",
      "\n",
      "\n",
      "\n",
      "test\n",
      "              precision    recall  f1-score   support\n",
      "\n",
      "    Negative       0.84      0.95      0.89       155\n",
      "     Neutral       0.45      0.16      0.23        32\n",
      "    Positive       0.75      0.73      0.74        37\n",
      "\n",
      "    accuracy                           0.80       224\n",
      "   macro avg       0.68      0.61      0.62       224\n",
      "weighted avg       0.77      0.80      0.77       224\n",
      "\n",
      "[[148   3   4]\n",
      " [ 22   5   5]\n",
      " [  7   3  27]]\n",
      "\n",
      "\n",
      "\n",
      "Aspect: Price\n",
      "1010 1010\n",
      "train\n",
      "              precision    recall  f1-score   support\n",
      "\n",
      "    Negative       0.97      0.99      0.98       255\n",
      "     Neutral       0.99      0.97      0.98       441\n",
      "    Positive       0.97      0.99      0.98       314\n",
      "\n",
      "    accuracy                           0.98      1010\n",
      "   macro avg       0.98      0.98      0.98      1010\n",
      "weighted avg       0.98      0.98      0.98      1010\n",
      "\n",
      "[[252   2   1]\n",
      " [  7 427   7]\n",
      " [  0   4 310]]\n",
      "\n",
      "\n",
      "\n",
      "test\n",
      "              precision    recall  f1-score   support\n",
      "\n",
      "    Negative       0.69      0.67      0.68        66\n",
      "     Neutral       0.64      0.68      0.66       106\n",
      "    Positive       0.71      0.67      0.69        76\n",
      "\n",
      "    accuracy                           0.67       248\n",
      "   macro avg       0.68      0.67      0.68       248\n",
      "weighted avg       0.67      0.67      0.67       248\n",
      "\n",
      "[[44 18  4]\n",
      " [17 72 17]\n",
      " [ 3 22 51]]\n",
      "\n",
      "\n",
      "\n",
      "Aspect: System\n",
      "418 418\n",
      "train\n",
      "              precision    recall  f1-score   support\n",
      "\n",
      "    Negative       0.97      1.00      0.99       310\n",
      "     Neutral       1.00      0.91      0.95       102\n",
      "    Positive       1.00      1.00      1.00         6\n",
      "\n",
      "    accuracy                           0.98       418\n",
      "   macro avg       0.99      0.97      0.98       418\n",
      "weighted avg       0.98      0.98      0.98       418\n",
      "\n",
      "[[310   0   0]\n",
      " [  9  93   0]\n",
      " [  0   0   6]]\n",
      "\n",
      "\n",
      "\n",
      "test\n",
      "              precision    recall  f1-score   support\n",
      "\n",
      "    Negative       0.74      0.93      0.83        72\n",
      "     Neutral       0.69      0.33      0.45        33\n",
      "    Positive       0.00      0.00      0.00         1\n",
      "\n",
      "    accuracy                           0.74       106\n",
      "   macro avg       0.48      0.42      0.43       106\n",
      "weighted avg       0.72      0.74      0.70       106\n",
      "\n",
      "[[67  5  0]\n",
      " [22 11  0]\n",
      " [ 1  0  0]]\n",
      "\n",
      "\n",
      "\n"
     ]
    },
    {
     "name": "stderr",
     "output_type": "stream",
     "text": [
      "/anaconda3/lib/python3.7/site-packages/sklearn/metrics/_classification.py:1272: UndefinedMetricWarning: Precision and F-score are ill-defined and being set to 0.0 in labels with no predicted samples. Use `zero_division` parameter to control this behavior.\n",
      "  _warn_prf(average, modifier, msg_start, len(result))\n"
     ]
    }
   ],
   "source": [
    "models_raw = {}\n",
    "smote = SMOTE()\n",
    "\n",
    "for aspect in ['Company','Employee','Price','System']:\n",
    "    \n",
    "    print('Aspect:', aspect)\n",
    "    \n",
    "    pipeline_raw = Pipeline([\n",
    "        ('bow', CountVectorizer(analyzer=preprocessor)),  # strings to token integer counts\n",
    "        ('tfidf', TfidfTransformer()),  # integer counts to weighted TF-IDF scores\n",
    "        ('classifier',LinearSVC())])  # train on TF-IDF vectors \n",
    "    \n",
    "    X_train_raw = X_train[y_train['Aspect'] == aspect]\n",
    "    y_train_raw = y_train['Sentiment'][y_train['Aspect'] == aspect]\n",
    "    print(len(X_train_raw), len(y_train_raw))\n",
    "  \n",
    "    \n",
    "    pipeline_raw.fit(X_train_raw, y_train_raw)\n",
    "    models_raw[aspect] = pipeline_raw\n",
    "    \n",
    "    y_predict_raw_train = pipeline_raw.predict(X_train_raw)\n",
    "    y_predict_raw = pipeline_raw.predict(X_test[y_test['Aspect'] == aspect])\n",
    "    \n",
    "    print('train')\n",
    "    print(classification_report(y_train_raw,y_predict_raw_train))\n",
    "    print(confusion_matrix(y_train_raw,y_predict_raw_train))\n",
    "    print('\\n'*2)\n",
    "    \n",
    "    print('test')\n",
    "    print(classification_report(y_test['Sentiment'][y_test['Aspect'] == aspect],y_predict_raw))\n",
    "    print(confusion_matrix(y_test['Sentiment'][y_test['Aspect'] == aspect],y_predict_raw))\n",
    "    print('\\n'*2)\n",
    "    "
   ]
  },
  {
   "cell_type": "code",
   "execution_count": 105,
   "metadata": {
    "scrolled": false
   },
   "outputs": [
    {
     "name": "stdout",
     "output_type": "stream",
     "text": [
      "Aspect: Company\n",
      "433 433\n"
     ]
    },
    {
     "name": "stderr",
     "output_type": "stream",
     "text": [
      "/anaconda3/lib/python3.7/site-packages/sklearn/utils/deprecation.py:87: FutureWarning: Function safe_indexing is deprecated; safe_indexing is deprecated in version 0.22 and will be removed in version 0.24.\n",
      "  warnings.warn(msg, category=FutureWarning)\n"
     ]
    },
    {
     "name": "stdout",
     "output_type": "stream",
     "text": [
      "train\n",
      "              precision    recall  f1-score   support\n",
      "\n",
      "    Negative       1.00      1.00      1.00       157\n",
      "     Neutral       1.00      0.98      0.99       157\n",
      "    Positive       0.98      1.00      0.99       157\n",
      "\n",
      "    accuracy                           0.99       471\n",
      "   macro avg       0.99      0.99      0.99       471\n",
      "weighted avg       0.99      0.99      0.99       471\n",
      "\n",
      "[[157   0   0]\n",
      " [  0 154   3]\n",
      " [  0   0 157]]\n",
      "\n",
      "\n",
      "\n",
      "test\n",
      "              precision    recall  f1-score   support\n",
      "\n",
      "    Negative       0.79      0.78      0.78        49\n",
      "     Neutral       0.54      0.56      0.55        25\n",
      "    Positive       0.81      0.81      0.81        36\n",
      "\n",
      "    accuracy                           0.74       110\n",
      "   macro avg       0.71      0.71      0.71       110\n",
      "weighted avg       0.74      0.74      0.74       110\n",
      "\n",
      "[[38  8  3]\n",
      " [ 7 14  4]\n",
      " [ 3  4 29]]\n",
      "\n",
      "\n",
      "\n",
      "Aspect: Employee\n",
      "891 891\n"
     ]
    },
    {
     "name": "stderr",
     "output_type": "stream",
     "text": [
      "/anaconda3/lib/python3.7/site-packages/sklearn/utils/deprecation.py:87: FutureWarning: Function safe_indexing is deprecated; safe_indexing is deprecated in version 0.22 and will be removed in version 0.24.\n",
      "  warnings.warn(msg, category=FutureWarning)\n"
     ]
    },
    {
     "name": "stdout",
     "output_type": "stream",
     "text": [
      "train\n",
      "              precision    recall  f1-score   support\n",
      "\n",
      "    Negative       1.00      1.00      1.00       582\n",
      "     Neutral       1.00      1.00      1.00       582\n",
      "    Positive       1.00      0.99      1.00       582\n",
      "\n",
      "    accuracy                           1.00      1746\n",
      "   macro avg       1.00      1.00      1.00      1746\n",
      "weighted avg       1.00      1.00      1.00      1746\n",
      "\n",
      "[[581   1   0]\n",
      " [  0 582   0]\n",
      " [  2   1 579]]\n",
      "\n",
      "\n",
      "\n",
      "test\n",
      "              precision    recall  f1-score   support\n",
      "\n",
      "    Negative       0.85      0.87      0.86       155\n",
      "     Neutral       0.33      0.25      0.29        32\n",
      "    Positive       0.68      0.76      0.72        37\n",
      "\n",
      "    accuracy                           0.76       224\n",
      "   macro avg       0.62      0.63      0.62       224\n",
      "weighted avg       0.75      0.76      0.75       224\n",
      "\n",
      "[[135  12   8]\n",
      " [ 19   8   5]\n",
      " [  5   4  28]]\n",
      "\n",
      "\n",
      "\n",
      "Aspect: Price\n",
      "1010 1010\n"
     ]
    },
    {
     "name": "stderr",
     "output_type": "stream",
     "text": [
      "/anaconda3/lib/python3.7/site-packages/sklearn/utils/deprecation.py:87: FutureWarning: Function safe_indexing is deprecated; safe_indexing is deprecated in version 0.22 and will be removed in version 0.24.\n",
      "  warnings.warn(msg, category=FutureWarning)\n"
     ]
    },
    {
     "name": "stdout",
     "output_type": "stream",
     "text": [
      "train\n",
      "              precision    recall  f1-score   support\n",
      "\n",
      "    Negative       0.98      1.00      0.99       441\n",
      "     Neutral       0.99      0.96      0.98       441\n",
      "    Positive       0.98      0.99      0.99       441\n",
      "\n",
      "    accuracy                           0.98      1323\n",
      "   macro avg       0.98      0.98      0.98      1323\n",
      "weighted avg       0.98      0.98      0.98      1323\n",
      "\n",
      "[[439   1   1]\n",
      " [  9 424   8]\n",
      " [  0   3 438]]\n",
      "\n",
      "\n",
      "\n",
      "test\n",
      "              precision    recall  f1-score   support\n",
      "\n",
      "    Negative       0.68      0.70      0.69        66\n",
      "     Neutral       0.66      0.64      0.65       106\n",
      "    Positive       0.66      0.67      0.67        76\n",
      "\n",
      "    accuracy                           0.67       248\n",
      "   macro avg       0.67      0.67      0.67       248\n",
      "weighted avg       0.67      0.67      0.67       248\n",
      "\n",
      "[[46 13  7]\n",
      " [19 68 19]\n",
      " [ 3 22 51]]\n",
      "\n",
      "\n",
      "\n",
      "Aspect: System\n",
      "418 418\n"
     ]
    },
    {
     "name": "stderr",
     "output_type": "stream",
     "text": [
      "/anaconda3/lib/python3.7/site-packages/sklearn/utils/deprecation.py:87: FutureWarning: Function safe_indexing is deprecated; safe_indexing is deprecated in version 0.22 and will be removed in version 0.24.\n",
      "  warnings.warn(msg, category=FutureWarning)\n"
     ]
    },
    {
     "name": "stdout",
     "output_type": "stream",
     "text": [
      "train\n",
      "              precision    recall  f1-score   support\n",
      "\n",
      "    Negative       1.00      0.99      1.00       310\n",
      "     Neutral       0.99      1.00      1.00       310\n",
      "    Positive       1.00      1.00      1.00       310\n",
      "\n",
      "    accuracy                           1.00       930\n",
      "   macro avg       1.00      1.00      1.00       930\n",
      "weighted avg       1.00      1.00      1.00       930\n",
      "\n",
      "[[308   2   0]\n",
      " [  1 309   0]\n",
      " [  0   0 310]]\n",
      "\n",
      "\n",
      "\n",
      "test\n",
      "              precision    recall  f1-score   support\n",
      "\n",
      "    Negative       0.77      0.83      0.80        72\n",
      "     Neutral       0.57      0.48      0.52        33\n",
      "    Positive       0.00      0.00      0.00         1\n",
      "\n",
      "    accuracy                           0.72       106\n",
      "   macro avg       0.45      0.44      0.44       106\n",
      "weighted avg       0.70      0.72      0.71       106\n",
      "\n",
      "[[60 12  0]\n",
      " [17 16  0]\n",
      " [ 1  0  0]]\n",
      "\n",
      "\n",
      "\n"
     ]
    },
    {
     "name": "stderr",
     "output_type": "stream",
     "text": [
      "/anaconda3/lib/python3.7/site-packages/sklearn/metrics/_classification.py:1272: UndefinedMetricWarning: Precision and F-score are ill-defined and being set to 0.0 in labels with no predicted samples. Use `zero_division` parameter to control this behavior.\n",
      "  _warn_prf(average, modifier, msg_start, len(result))\n"
     ]
    }
   ],
   "source": [
    "models_raw = {}\n",
    "smote = SMOTE()\n",
    "\n",
    "for aspect in ['Company','Employee','Price','System']:\n",
    "    \n",
    "    print('Aspect:', aspect)\n",
    "    \n",
    "    \n",
    "#     pipeline_raw = Pipeline([\n",
    "#         ('bow', CountVectorizer(analyzer=preprocessor)),  # strings to token integer counts\n",
    "#         ('tfidf', TfidfTransformer()), b # integer counts to weighted TF-IDF scores\n",
    "#         ('classifier',LinearSVC())])  # train on TF-IDF vectors \n",
    "    \n",
    "    X_train_raw = X_train[y_train['Aspect'] == aspect]\n",
    "    y_train_raw = y_train['Sentiment'][y_train['Aspect'] == aspect]\n",
    "    print(len(X_train_raw), len(y_train_raw))\n",
    "    \n",
    "    vectorizer_vec = CountVectorizer(analyzer=preprocessor)\n",
    "    X_train_raw_vec = vectorizer_vec.fit_transform(X_train_raw)\n",
    "    \n",
    "    vectorizer_tf = TfidfTransformer()\n",
    "    X_train_raw_tf = vectorizer_tf.fit_transform(X_train_raw_vec)\n",
    "    \n",
    "    #Upsampling\n",
    "    X_train_raw_up, y_train_raw_up = smote.fit_sample(X_train_raw_tf, y_train_raw)\n",
    "#     print(len(X_train_raw_up), len(y_train_raw_up))\n",
    "    \n",
    "    model_raw = LinearSVC()\n",
    "    model_raw.fit(X_train_raw_up, y_train_raw_up)\n",
    "    \n",
    "    \n",
    "#     pipeline_raw.fit(X_train_raw_up, y_train_raw_up)\n",
    "    models_raw[aspect] = model_raw\n",
    "    \n",
    "    \n",
    "    X_test_raw_vec = vectorizer_vec.transform(X_test[y_test['Aspect'] == aspect])\n",
    "    X_test_raw_tf = vectorizer_tf.transform(X_test_raw_vec)\n",
    "    \n",
    "    y_predict_raw_train = model_raw.predict(X_train_raw_up)\n",
    "    y_predict_raw = model_raw.predict(X_test_raw_tf)\n",
    "    \n",
    "    print('train')\n",
    "    print(classification_report(y_train_raw_up,y_predict_raw_train))\n",
    "    print(confusion_matrix(y_train_raw_up,y_predict_raw_train))\n",
    "    print('\\n'*2)\n",
    "\n",
    "    print('test')\n",
    "    print(classification_report(y_test['Sentiment'][y_test['Aspect'] == aspect],y_predict_raw))\n",
    "    print(confusion_matrix(y_test['Sentiment'][y_test['Aspect'] == aspect],y_predict_raw))\n",
    "    print('\\n'*2)\n",
    "    "
   ]
  },
  {
   "cell_type": "code",
   "execution_count": null,
   "metadata": {},
   "outputs": [],
   "source": []
  }
 ],
 "metadata": {
  "kernelspec": {
   "display_name": "Python 3",
   "language": "python",
   "name": "python3"
  },
  "language_info": {
   "codemirror_mode": {
    "name": "ipython",
    "version": 3
   },
   "file_extension": ".py",
   "mimetype": "text/x-python",
   "name": "python",
   "nbconvert_exporter": "python",
   "pygments_lexer": "ipython3",
   "version": "3.7.6"
  },
  "toc": {
   "base_numbering": 1,
   "nav_menu": {},
   "number_sections": true,
   "sideBar": true,
   "skip_h1_title": true,
   "title_cell": "Table of Contents",
   "title_sidebar": "Contents",
   "toc_cell": true,
   "toc_position": {},
   "toc_section_display": true,
   "toc_window_display": false
  }
 },
 "nbformat": 4,
 "nbformat_minor": 4
}
