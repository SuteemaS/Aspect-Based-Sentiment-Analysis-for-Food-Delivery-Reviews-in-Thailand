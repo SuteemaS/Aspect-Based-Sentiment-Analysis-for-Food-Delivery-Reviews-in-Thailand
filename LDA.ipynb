{
 "cells": [
  {
   "cell_type": "markdown",
   "metadata": {
    "toc": true
   },
   "source": [
    "<h1>Table of Contents<span class=\"tocSkip\"></span></h1>\n",
    "<div class=\"toc\"><ul class=\"toc-item\"><li><span><a href=\"#Import-Library\" data-toc-modified-id=\"Import-Library-1\"><span class=\"toc-item-num\">1&nbsp;&nbsp;</span>Import Library</a></span></li><li><span><a href=\"#Load-Data\" data-toc-modified-id=\"Load-Data-2\"><span class=\"toc-item-num\">2&nbsp;&nbsp;</span>Load Data</a></span></li><li><span><a href=\"#EDA\" data-toc-modified-id=\"EDA-3\"><span class=\"toc-item-num\">3&nbsp;&nbsp;</span>EDA</a></span><ul class=\"toc-item\"><li><span><a href=\"#Drop-columns\" data-toc-modified-id=\"Drop-columns-3.1\"><span class=\"toc-item-num\">3.1&nbsp;&nbsp;</span>Drop columns</a></span></li><li><span><a href=\"#Check-Missing-Value\" data-toc-modified-id=\"Check-Missing-Value-3.2\"><span class=\"toc-item-num\">3.2&nbsp;&nbsp;</span>Check Missing Value</a></span></li></ul></li><li><span><a href=\"#Preprocessing\" data-toc-modified-id=\"Preprocessing-4\"><span class=\"toc-item-num\">4&nbsp;&nbsp;</span>Preprocessing</a></span></li><li><span><a href=\"#Train-Test-Split\" data-toc-modified-id=\"Train-Test-Split-5\"><span class=\"toc-item-num\">5&nbsp;&nbsp;</span>Train Test Split</a></span></li><li><span><a href=\"#LDA\" data-toc-modified-id=\"LDA-6\"><span class=\"toc-item-num\">6&nbsp;&nbsp;</span>LDA</a></span></li><li><span><a href=\"#Word2Vec\" data-toc-modified-id=\"Word2Vec-7\"><span class=\"toc-item-num\">7&nbsp;&nbsp;</span>Word2Vec</a></span></li></ul></div>"
   ]
  },
  {
   "cell_type": "markdown",
   "metadata": {},
   "source": [
    "## Import Library"
   ]
  },
  {
   "cell_type": "code",
   "execution_count": 1,
   "metadata": {},
   "outputs": [],
   "source": [
    "import numpy as np\n",
    "import pandas as pd \n",
    "import re\n",
    "import pythainlp\n",
    "from pythainlp.corpus.common import thai_words\n",
    "from pythainlp.tokenize import dict_trie, word_tokenize\n",
    "import string\n",
    "from gensim.test.utils import common_texts\n",
    "from gensim.corpora.dictionary import Dictionary\n",
    "from gensim.models.ldamodel import LdaModel\n",
    "from gensim.models import CoherenceModel\n",
    "from gensim.models import Word2Vec\n",
    "from sklearn.model_selection import train_test_split\n",
    "from sklearn.metrics import classification_report, confusion_matrix\n",
    "import pyLDAvis\n",
    "import pyLDAvis.gensim  \n",
    "import matplotlib.pyplot as plt\n",
    "import glob\n",
    "%matplotlib inline"
   ]
  },
  {
   "cell_type": "markdown",
   "metadata": {},
   "source": [
    "## Load Data"
   ]
  },
  {
   "cell_type": "code",
   "execution_count": 2,
   "metadata": {},
   "outputs": [],
   "source": [
    "filenames = glob.glob(\"final/*.csv\")"
   ]
  },
  {
   "cell_type": "code",
   "execution_count": 3,
   "metadata": {},
   "outputs": [],
   "source": [
    "df = pd.DataFrame()"
   ]
  },
  {
   "cell_type": "code",
   "execution_count": 4,
   "metadata": {},
   "outputs": [],
   "source": [
    "for filename in filenames:\n",
    "    temp = pd.read_csv(filename)\n",
    "    company = filename.split(\"/\")[1].split(\"_\")[0]\n",
    "    temp[\"company\"] = company\n",
    "    df = df.append(temp,ignore_index = True)"
   ]
  },
  {
   "cell_type": "code",
   "execution_count": 5,
   "metadata": {
    "scrolled": false
   },
   "outputs": [
    {
     "data": {
      "text/html": [
       "<div>\n",
       "<style scoped>\n",
       "    .dataframe tbody tr th:only-of-type {\n",
       "        vertical-align: middle;\n",
       "    }\n",
       "\n",
       "    .dataframe tbody tr th {\n",
       "        vertical-align: top;\n",
       "    }\n",
       "\n",
       "    .dataframe thead th {\n",
       "        text-align: right;\n",
       "    }\n",
       "</style>\n",
       "<table border=\"1\" class=\"dataframe\">\n",
       "  <thead>\n",
       "    <tr style=\"text-align: right;\">\n",
       "      <th></th>\n",
       "      <th>date</th>\n",
       "      <th>time</th>\n",
       "      <th>username</th>\n",
       "      <th>tweet</th>\n",
       "      <th>Food Delivery</th>\n",
       "      <th>Aspect</th>\n",
       "      <th>Sentiment</th>\n",
       "      <th>company</th>\n",
       "    </tr>\n",
       "  </thead>\n",
       "  <tbody>\n",
       "    <tr>\n",
       "      <th>0</th>\n",
       "      <td>2020-08-23</td>\n",
       "      <td>16:30:40</td>\n",
       "      <td>pinkzaa_zaa</td>\n",
       "      <td>ใช้แต่ #LINEMAN มาตลอด\\n______________________...</td>\n",
       "      <td>Yes</td>\n",
       "      <td>Company</td>\n",
       "      <td>Positive</td>\n",
       "      <td>LINEMAN</td>\n",
       "    </tr>\n",
       "    <tr>\n",
       "      <th>1</th>\n",
       "      <td>2020-08-23</td>\n",
       "      <td>11:29:02</td>\n",
       "      <td>roseapple110</td>\n",
       "      <td>มีคนเจอปัญหาไรเดอร์โทรหาไม่ติดตอนที่ปิดแอปทิ้ง...</td>\n",
       "      <td>Yes</td>\n",
       "      <td>Employee</td>\n",
       "      <td>Negative</td>\n",
       "      <td>LINEMAN</td>\n",
       "    </tr>\n",
       "    <tr>\n",
       "      <th>2</th>\n",
       "      <td>2020-08-22</td>\n",
       "      <td>18:58:12</td>\n",
       "      <td>twitneearoi</td>\n",
       "      <td>เมนูโปรดของแมวอ้วนอย่างเรา วันนี้ขอเสนออออ \"ข้...</td>\n",
       "      <td>No</td>\n",
       "      <td>NaN</td>\n",
       "      <td>NaN</td>\n",
       "      <td>LINEMAN</td>\n",
       "    </tr>\n",
       "    <tr>\n",
       "      <th>3</th>\n",
       "      <td>2020-08-22</td>\n",
       "      <td>17:08:50</td>\n",
       "      <td>belloir_sj</td>\n",
       "      <td>ขั้นกว่าของการเลี้ยงหมี คือการอาบน้ำด้วย #แลคต...</td>\n",
       "      <td>No</td>\n",
       "      <td>NaN</td>\n",
       "      <td>NaN</td>\n",
       "      <td>LINEMAN</td>\n",
       "    </tr>\n",
       "    <tr>\n",
       "      <th>4</th>\n",
       "      <td>2020-08-22</td>\n",
       "      <td>16:23:15</td>\n",
       "      <td>ifiend_</td>\n",
       "      <td>แต่ #lineman โปรลดเข้าร่วมเยอะกว่านะ</td>\n",
       "      <td>Yes</td>\n",
       "      <td>Price</td>\n",
       "      <td>Positive</td>\n",
       "      <td>LINEMAN</td>\n",
       "    </tr>\n",
       "  </tbody>\n",
       "</table>\n",
       "</div>"
      ],
      "text/plain": [
       "         date      time      username  \\\n",
       "0  2020-08-23  16:30:40   pinkzaa_zaa   \n",
       "1  2020-08-23  11:29:02  roseapple110   \n",
       "2  2020-08-22  18:58:12   twitneearoi   \n",
       "3  2020-08-22  17:08:50    belloir_sj   \n",
       "4  2020-08-22  16:23:15       ifiend_   \n",
       "\n",
       "                                               tweet Food Delivery    Aspect  \\\n",
       "0  ใช้แต่ #LINEMAN มาตลอด\\n______________________...           Yes   Company   \n",
       "1  มีคนเจอปัญหาไรเดอร์โทรหาไม่ติดตอนที่ปิดแอปทิ้ง...           Yes  Employee   \n",
       "2  เมนูโปรดของแมวอ้วนอย่างเรา วันนี้ขอเสนออออ \"ข้...            No       NaN   \n",
       "3  ขั้นกว่าของการเลี้ยงหมี คือการอาบน้ำด้วย #แลคต...            No       NaN   \n",
       "4               แต่ #lineman โปรลดเข้าร่วมเยอะกว่านะ           Yes     Price   \n",
       "\n",
       "  Sentiment  company  \n",
       "0  Positive  LINEMAN  \n",
       "1  Negative  LINEMAN  \n",
       "2       NaN  LINEMAN  \n",
       "3       NaN  LINEMAN  \n",
       "4  Positive  LINEMAN  "
      ]
     },
     "execution_count": 5,
     "metadata": {},
     "output_type": "execute_result"
    }
   ],
   "source": [
    "df.head()"
   ]
  },
  {
   "cell_type": "markdown",
   "metadata": {},
   "source": [
    "## EDA"
   ]
  },
  {
   "cell_type": "markdown",
   "metadata": {},
   "source": [
    "### Drop columns"
   ]
  },
  {
   "cell_type": "code",
   "execution_count": 6,
   "metadata": {},
   "outputs": [],
   "source": [
    "df.drop(columns=[\"date\",\"time\",\"username\"],inplace=True)"
   ]
  },
  {
   "cell_type": "markdown",
   "metadata": {},
   "source": [
    "### Check Missing Value"
   ]
  },
  {
   "cell_type": "code",
   "execution_count": 7,
   "metadata": {
    "scrolled": false
   },
   "outputs": [
    {
     "data": {
      "text/plain": [
       "tweet               0\n",
       "Food Delivery       0\n",
       "Aspect           3339\n",
       "Sentiment        3340\n",
       "company             0\n",
       "dtype: int64"
      ]
     },
     "execution_count": 7,
     "metadata": {},
     "output_type": "execute_result"
    }
   ],
   "source": [
    "np.sum(df.isnull())"
   ]
  },
  {
   "cell_type": "code",
   "execution_count": 8,
   "metadata": {},
   "outputs": [],
   "source": [
    "df.dropna(inplace=True)"
   ]
  },
  {
   "cell_type": "code",
   "execution_count": 9,
   "metadata": {},
   "outputs": [],
   "source": [
    "df.reset_index(drop=True, inplace=True)"
   ]
  },
  {
   "cell_type": "code",
   "execution_count": 10,
   "metadata": {},
   "outputs": [
    {
     "data": {
      "text/plain": [
       "tweet            0\n",
       "Food Delivery    0\n",
       "Aspect           0\n",
       "Sentiment        0\n",
       "company          0\n",
       "dtype: int64"
      ]
     },
     "execution_count": 10,
     "metadata": {},
     "output_type": "execute_result"
    }
   ],
   "source": [
    "np.sum(df.isnull())"
   ]
  },
  {
   "cell_type": "markdown",
   "metadata": {},
   "source": [
    "## Preprocessing"
   ]
  },
  {
   "cell_type": "code",
   "execution_count": 11,
   "metadata": {},
   "outputs": [],
   "source": [
    "## Add word in dict\n",
    "custom_dict = set(thai_words())\n",
    "\n",
    "System_ = 'ปิด ปิดร้าน ชั่วคราว ระบบ เงิน ตัด บัตร แคนเซิล ยกเลิก เป็น อาราย อะไร พัง ค้าง ล่ม เสีย สั่ง หา ไม่ได้ เด้ง รอนาน รอ ออเดอร์ พัฒนา ตัดเงิน ตัดบัตร หักเงิน แอป แอพ ปัก ปักหมุด พิกัด ใช้ ยาก ง่าย พัฒนา ไม่ตรง แผนที่ โอน เครดิต คืน รีบ แก้ ด่วน ขัดข้อง ฟื้น แก้ไข จ่ายเงิน ปัญหา ไม่เปิด ไม่เจอ แท็ก คืนเงิน ไม่พบ หา โดนระงับ ตรวจสอบ ขั้นตอน หักตังค์ เงินไม่เข้า เติมเงิน ไม่เข้า จ่ายไม่ได้ แผนที่ แบบใหม่ แบบเก่า แมพ พิกัด บัตรเครดิต บัค ฟีเจอร์ บั๊ก หมุน'\n",
    "System_Aspect = System_.split(' ')\n",
    "\n",
    "Company_ = 'คอลเซนเตอร์ คอลเซ็นเตอร์ รับผิดชอบ เบอร์ ติดต่อ สื่อสาร โทร เมล ยกเลิก เงินคืน ร้องเรียน ไม่ สนใจ เพิกเฉย รอสาย ตัดสาย บริการ ด่วน เมล โทร ศูนย์บริการ เจ้าหน้าที่ ปัญหา ชดเชย เลิกใช้ แบน บริษัท โกงเงิน บัญชี เลิกใช้ แคนเซิล ออเดอร์ ลบ องค์กร ระงับ เลิกสั่ง ประทับใจ โกง รีฟัน แนะนำ ชี้แจง แจ้ง รีวิว คอมเพลน'\n",
    "Company_Aspect = Company_.split(' ')\n",
    "\n",
    "Price_ =  'ราคา ค่าส่ง ส่วนลด โปรโมชั่น คุ้มค่า ไม่คุ้ม แพง ถูก ลด โปร บอกต่อ คุ้ม ค่าบริการ ใช้ไม่ได้ ใช้งานไม่ได้ คุณภาพ ใช้ได้ ซื้อ ขั้นต่ำ ส่งฟรี แกง บาท ส่วนต่าง ลูกค้า ใหม่ เก่า โค้ด เพิ่ม ฟรี ค่าอาหาร ค่าจอดรถ ต่ำกว่า รหัส ภาษี คำสั่งซื้อ เสียเงินเพิ่ม สังน้อย บวกเพิ่ม ขนาดเล็ก ค่าธรรมเนียม แถม เก็บ เล็ก คูปอง หมด เต็ม กด ทัน'\n",
    "\n",
    "Price_Aspect = Price_.split(' ')\n",
    "\n",
    "Employee_ = 'ยกเลิก รอ ช้า นาน ชั่วโมง ชม นาที ไม่ได้รับ ไม่ได้อาหาร ปัญหา รอเพิ่ม ออเดอร์ ผู้ส่ง พนักงาน คนขับ คนส่ง อบรม มารยาท คำพูด รอนาน บริการ นิสัย เละเทะ ไม่รับ สาย ส่ง ไรเดอร์ เสีย คน ติดต่อ ไม่ครบ ขาด หาย ช้า ไม่ครบ คนส่ง พนง สุภาพ นาที ไว ส่ง จัดส่ง ซ้อน ยังไม่ได้ ตั้งแต่ บอกทาง เหวี่ยง ส่งผิด ผิด ปฏิเสธ พี่ พูดเพราะ รับงาน ที่อยู่ หาย คุณ ไม่พอใจ น้อง คุ๊น ด่า เชค เช็ค ตรวจ สภาพ พ่วง ขอบคุณ โทร แซง คิว'\n",
    "\n",
    "Employee_Aspect = Employee_.split(' ')\n",
    "\n",
    "reviews_dict = System_Aspect+Company_Aspect+Price_Aspect+Employee_Aspect\n",
    "\n",
    "for word in reviews_dict:\n",
    "    custom_dict.add(word)\n",
    "\n",
    "trie = dict_trie(dict_source= custom_dict)"
   ]
  },
  {
   "cell_type": "code",
   "execution_count": 12,
   "metadata": {},
   "outputs": [
    {
     "data": {
      "text/plain": [
       "set"
      ]
     },
     "execution_count": 12,
     "metadata": {},
     "output_type": "execute_result"
    }
   ],
   "source": [
    "type(custom_dict)"
   ]
  },
  {
   "cell_type": "code",
   "execution_count": 13,
   "metadata": {},
   "outputs": [],
   "source": [
    "def preprocessor(text):\n",
    "    \n",
    "    #remove hashtag\n",
    "    hashtag_removed = re.sub(r\"#\\w+\",'', text) \n",
    "    \n",
    "    #remove url\n",
    "    url_removed = re.sub(r'http[s]?://(?:[a-zA-Z]|[0-9]|[$-_@.&+]|[!*\\(\\),]|(?:%[0-9a-fA-F][0-9a-fA-F]))+','', hashtag_removed)\n",
    "    \n",
    "    #word tokenize\n",
    "    word_tokenized = pythainlp.word_tokenize(url_removed,custom_dict=trie,keep_whitespace=False,engine='pyicu')\n",
    "    \n",
    "    #thai filter\n",
    "    word_thai = []\n",
    "    for word in word_tokenized:\n",
    "        if pythainlp.util.isthai(word):\n",
    "            for punc in string.punctuation:\n",
    "                word = word.replace(punc,'')\n",
    "            if word != '':\n",
    "                word_thai.append(word)\n",
    "                \n",
    "    #check vocab\n",
    "    check_vocab = []\n",
    "    for word in word_thai:\n",
    "        if word in custom_dict:\n",
    "            check_vocab.append(word)\n",
    "                \n",
    "    #remove stopword\n",
    "    removed_stopword = []\n",
    "    for word in check_vocab:\n",
    "        if word not in pythainlp.corpus.common.thai_stopwords():\n",
    "            removed_stopword.append(word)\n",
    "    \n",
    "    \n",
    "    #remove name of company\n",
    "    remove_company_name = []\n",
    "    for word in removed_stopword:\n",
    "        if word not in ['ฟู้ดแพนด้า','แกรป','แกป','ไลน์แมน','แพนด้า']:\n",
    "            remove_company_name.append(word)\n",
    "                \n",
    "    return remove_company_name"
   ]
  },
  {
   "cell_type": "code",
   "execution_count": 14,
   "metadata": {},
   "outputs": [],
   "source": [
    "df['preprocessed'] = df['tweet'].map(preprocessor)"
   ]
  },
  {
   "cell_type": "code",
   "execution_count": 15,
   "metadata": {
    "scrolled": false
   },
   "outputs": [
    {
     "data": {
      "text/html": [
       "<div>\n",
       "<style scoped>\n",
       "    .dataframe tbody tr th:only-of-type {\n",
       "        vertical-align: middle;\n",
       "    }\n",
       "\n",
       "    .dataframe tbody tr th {\n",
       "        vertical-align: top;\n",
       "    }\n",
       "\n",
       "    .dataframe thead th {\n",
       "        text-align: right;\n",
       "    }\n",
       "</style>\n",
       "<table border=\"1\" class=\"dataframe\">\n",
       "  <thead>\n",
       "    <tr style=\"text-align: right;\">\n",
       "      <th></th>\n",
       "      <th>tweet</th>\n",
       "      <th>Food Delivery</th>\n",
       "      <th>Aspect</th>\n",
       "      <th>Sentiment</th>\n",
       "      <th>company</th>\n",
       "      <th>preprocessed</th>\n",
       "    </tr>\n",
       "  </thead>\n",
       "  <tbody>\n",
       "    <tr>\n",
       "      <th>0</th>\n",
       "      <td>ใช้แต่ #LINEMAN มาตลอด\\n______________________...</td>\n",
       "      <td>Yes</td>\n",
       "      <td>Company</td>\n",
       "      <td>Positive</td>\n",
       "      <td>LINEMAN</td>\n",
       "      <td>[เผอิญ, ส่งฟรี, ดี]</td>\n",
       "    </tr>\n",
       "    <tr>\n",
       "      <th>1</th>\n",
       "      <td>มีคนเจอปัญหาไรเดอร์โทรหาไม่ติดตอนที่ปิดแอปทิ้ง...</td>\n",
       "      <td>Yes</td>\n",
       "      <td>Employee</td>\n",
       "      <td>Negative</td>\n",
       "      <td>LINEMAN</td>\n",
       "      <td>[คน, เจอ, ปัญหา, ไรเดอร์, โทร, หาไม่, ติด, ตอน...</td>\n",
       "    </tr>\n",
       "    <tr>\n",
       "      <th>2</th>\n",
       "      <td>แต่ #lineman โปรลดเข้าร่วมเยอะกว่านะ</td>\n",
       "      <td>Yes</td>\n",
       "      <td>Price</td>\n",
       "      <td>Positive</td>\n",
       "      <td>LINEMAN</td>\n",
       "      <td>[โปร, ลด, เข้าร่วม]</td>\n",
       "    </tr>\n",
       "    <tr>\n",
       "      <th>3</th>\n",
       "      <td>จะดีมากถ้า #LINEMAN มีระบบตัดบัตรทันที เพราะนี...</td>\n",
       "      <td>Yes</td>\n",
       "      <td>System</td>\n",
       "      <td>Neutral</td>\n",
       "      <td>LINEMAN</td>\n",
       "      <td>[ดีมาก, มีระบบ, ตัดบัตร, พก, เงินสด]</td>\n",
       "    </tr>\n",
       "    <tr>\n",
       "      <th>4</th>\n",
       "      <td>อยากกินชานมไข่มุก คิดไม่ออก🤨\\nนึกถึงคามูเลย💓\\n...</td>\n",
       "      <td>Yes</td>\n",
       "      <td>Price</td>\n",
       "      <td>Neutral</td>\n",
       "      <td>LINEMAN</td>\n",
       "      <td>[กิน, ชา, นม, ไข่มุก, คิดไม่ออก, นึกถึง, คา, โ...</td>\n",
       "    </tr>\n",
       "  </tbody>\n",
       "</table>\n",
       "</div>"
      ],
      "text/plain": [
       "                                               tweet Food Delivery    Aspect  \\\n",
       "0  ใช้แต่ #LINEMAN มาตลอด\\n______________________...           Yes   Company   \n",
       "1  มีคนเจอปัญหาไรเดอร์โทรหาไม่ติดตอนที่ปิดแอปทิ้ง...           Yes  Employee   \n",
       "2               แต่ #lineman โปรลดเข้าร่วมเยอะกว่านะ           Yes     Price   \n",
       "3  จะดีมากถ้า #LINEMAN มีระบบตัดบัตรทันที เพราะนี...           Yes    System   \n",
       "4  อยากกินชานมไข่มุก คิดไม่ออก🤨\\nนึกถึงคามูเลย💓\\n...           Yes     Price   \n",
       "\n",
       "  Sentiment  company                                       preprocessed  \n",
       "0  Positive  LINEMAN                                [เผอิญ, ส่งฟรี, ดี]  \n",
       "1  Negative  LINEMAN  [คน, เจอ, ปัญหา, ไรเดอร์, โทร, หาไม่, ติด, ตอน...  \n",
       "2  Positive  LINEMAN                                [โปร, ลด, เข้าร่วม]  \n",
       "3   Neutral  LINEMAN               [ดีมาก, มีระบบ, ตัดบัตร, พก, เงินสด]  \n",
       "4   Neutral  LINEMAN  [กิน, ชา, นม, ไข่มุก, คิดไม่ออก, นึกถึง, คา, โ...  "
      ]
     },
     "execution_count": 15,
     "metadata": {},
     "output_type": "execute_result"
    }
   ],
   "source": [
    "df.head()"
   ]
  },
  {
   "cell_type": "code",
   "execution_count": 16,
   "metadata": {},
   "outputs": [
    {
     "data": {
      "text/plain": [
       "(3440, 6)"
      ]
     },
     "execution_count": 16,
     "metadata": {},
     "output_type": "execute_result"
    }
   ],
   "source": [
    "df.shape"
   ]
  },
  {
   "cell_type": "markdown",
   "metadata": {},
   "source": [
    "## Train Test Split "
   ]
  },
  {
   "cell_type": "code",
   "execution_count": 17,
   "metadata": {},
   "outputs": [],
   "source": [
    "X_train, X_test, y_train, y_test = train_test_split(df['preprocessed'], df[['tweet','Aspect']], test_size=0.2, random_state=0)"
   ]
  },
  {
   "cell_type": "code",
   "execution_count": 18,
   "metadata": {},
   "outputs": [],
   "source": [
    "X_train.reset_index(drop=True, inplace=True)"
   ]
  },
  {
   "cell_type": "code",
   "execution_count": 19,
   "metadata": {},
   "outputs": [],
   "source": [
    "X_test.reset_index(drop=True, inplace=True)"
   ]
  },
  {
   "cell_type": "code",
   "execution_count": 20,
   "metadata": {},
   "outputs": [],
   "source": [
    "y_train.reset_index(drop=True, inplace=True)"
   ]
  },
  {
   "cell_type": "code",
   "execution_count": 21,
   "metadata": {},
   "outputs": [],
   "source": [
    "y_test.reset_index(drop=True, inplace=True)"
   ]
  },
  {
   "cell_type": "markdown",
   "metadata": {},
   "source": [
    "## LDA"
   ]
  },
  {
   "cell_type": "code",
   "execution_count": 22,
   "metadata": {},
   "outputs": [],
   "source": [
    "common_dictionary = Dictionary(X_train)"
   ]
  },
  {
   "cell_type": "code",
   "execution_count": 23,
   "metadata": {},
   "outputs": [],
   "source": [
    "common_corpus_train = [common_dictionary.doc2bow(text) for text in X_train]"
   ]
  },
  {
   "cell_type": "code",
   "execution_count": 24,
   "metadata": {},
   "outputs": [],
   "source": [
    "#find number of toppic\n",
    "def compute_coherence_values(dictionary, corpus, texts, limit, start=2, step=3):\n",
    "    coherence_values = []\n",
    "    model_list = []\n",
    "    for num_topics in range(start, limit, step):\n",
    "        model = LdaModel(corpus=corpus,\n",
    "                    id2word=dictionary,\n",
    "                    num_topics= num_topics,\n",
    "                    random_state=100,\n",
    "                    update_every=1,\n",
    "                    chunksize=100,\n",
    "                    passes=20,\n",
    "                    alpha=0.4,\n",
    "                    eta=0.2,\n",
    "                    per_word_topics=True)\n",
    "        model_list.append(model)\n",
    "        coherencemodel = CoherenceModel(model=model, texts=texts, dictionary=dictionary, coherence='c_v')\n",
    "        coherence_values.append(coherencemodel.get_coherence())\n",
    "\n",
    "    return model_list, coherence_values"
   ]
  },
  {
   "cell_type": "code",
   "execution_count": 25,
   "metadata": {},
   "outputs": [],
   "source": [
    "model_list, coherence_values = compute_coherence_values(dictionary=common_dictionary, corpus=common_corpus_train, texts=X_train, start=2, limit=50, step=6)"
   ]
  },
  {
   "cell_type": "code",
   "execution_count": 26,
   "metadata": {
    "scrolled": true
   },
   "outputs": [
    {
     "data": {
      "image/png": "[encoded data removed]",
      "text/plain": [
       "<Figure size 432x288 with 1 Axes>"
      ]
     },
     "metadata": {
      "needs_background": "light"
     },
     "output_type": "display_data"
    }
   ],
   "source": [
    "# Show graph\n",
    "limit=50; start=2; step=6;\n",
    "x = range(start, limit, step)\n",
    "plt.plot(x, coherence_values)\n",
    "plt.xlabel(\"Num Topics\")\n",
    "plt.ylabel(\"Coherence score\")\n",
    "plt.legend((\"coherence_values\"), loc='best')\n",
    "plt.show()"
   ]
  },
  {
   "cell_type": "code",
   "execution_count": 27,
   "metadata": {
    "scrolled": false
   },
   "outputs": [
    {
     "name": "stdout",
     "output_type": "stream",
     "text": [
      "Num Topics = 2  has Coherence Value of 0.4983\n",
      "Num Topics = 8  has Coherence Value of 0.4202\n",
      "Num Topics = 14  has Coherence Value of 0.42\n",
      "Num Topics = 20  has Coherence Value of 0.4495\n",
      "Num Topics = 26  has Coherence Value of 0.4584\n",
      "Num Topics = 32  has Coherence Value of 0.4669\n",
      "Num Topics = 38  has Coherence Value of 0.4733\n",
      "Num Topics = 44  has Coherence Value of 0.4756\n"
     ]
    }
   ],
   "source": [
    "# Print the coherence scores\n",
    "for m, cv in zip(x, coherence_values):\n",
    "    print(\"Num Topics =\", m, \" has Coherence Value of\", round(cv, 4))"
   ]
  },
  {
   "cell_type": "code",
   "execution_count": 28,
   "metadata": {},
   "outputs": [],
   "source": [
    "lda_model = LdaModel(corpus=common_corpus_train,\n",
    "                    id2word=common_dictionary,\n",
    "                    num_topics= 38,\n",
    "                    random_state=100,\n",
    "                    update_every=1,\n",
    "                    chunksize=100,\n",
    "                    passes=20,\n",
    "                    alpha=0.4,\n",
    "                    eta=0.2,\n",
    "                    per_word_topics=True)"
   ]
  },
  {
   "cell_type": "code",
   "execution_count": 29,
   "metadata": {
    "scrolled": true
   },
   "outputs": [
    {
     "name": "stdout",
     "output_type": "stream",
     "text": [
      "[(9, '0.098*\"เค้า\" + 0.086*\"แบบนี้\" + 0.069*\"หรอ\" + 0.035*\"คนส่ง\" + 0.022*\"เท\" + 0.018*\"หนู\" + 0.016*\"ดาว\" + 0.015*\"ไหว้\" + 0.012*\"วน\" + 0.012*\"ดิ\"'), (37, '0.136*\"พี่\" + 0.061*\"นะคะ\" + 0.051*\"แมน\" + 0.049*\"ไลน์\" + 0.038*\"คน\" + 0.028*\"น่ารัก\" + 0.028*\"ขอบคุณ\" + 0.026*\"เหมือน\" + 0.020*\"ดีมาก\" + 0.019*\"ผม\"'), (22, '0.149*\"บาท\" + 0.073*\"สั่ง\" + 0.073*\"ค่าส่ง\" + 0.067*\"ลด\" + 0.066*\"โค้ด\" + 0.061*\"ส่วนลด\" + 0.045*\"ราคา\" + 0.029*\"ค่า\" + 0.026*\"ส่งฟรี\" + 0.019*\"ขั้นต่ำ\"'), (7, '0.015*\"ก้อน\" + 0.010*\"แซลมอน\" + 0.009*\"น้ำปลา\" + 0.009*\"ปัง\" + 0.008*\"นัว\" + 0.006*\"ซูชิ\" + 0.005*\"เบคอน\" + 0.004*\"ไม่งั้น\" + 0.004*\"คนเรา\" + 0.004*\"ตามใจ\"'), (3, '0.093*\"สั่ง\" + 0.075*\"ไม่ได้\" + 0.073*\"รอ\" + 0.050*\"คนขับ\" + 0.048*\"ยกเลิก\" + 0.045*\"ออเดอร์\" + 0.042*\"โทร\" + 0.034*\"ร้าน\" + 0.027*\"นาที\" + 0.026*\"บอ\"'), (2, '0.082*\"เจอ\" + 0.049*\"หน้า\" + 0.041*\"ขับ\" + 0.022*\"เด้อ\" + 0.016*\"ด่า\" + 0.015*\"ขี่\" + 0.014*\"ไปดู\" + 0.012*\"ที่จอดรถ\" + 0.011*\"ฝน\" + 0.011*\"หก\"'), (1, '0.111*\"แถม\" + 0.046*\"ชา\" + 0.032*\"แก้ว\" + 0.032*\"นม\" + 0.028*\"น้า\" + 0.026*\"โปร\" + 0.019*\"ไข่มุก\" + 0.015*\"เดือน\" + 0.015*\"เวอร์\" + 0.013*\"มุก\"'), (31, '0.195*\"กก\" + 0.066*\"บอกต่อ\" + 0.024*\"รู้สึก\" + 0.017*\"รร\" + 0.015*\"คุย\" + 0.015*\"เป้า\" + 0.011*\"หวาน\" + 0.010*\"ดีล\" + 0.009*\"สิทธิ์\" + 0.008*\"เว่อ\"'), (26, '0.049*\"นึง\" + 0.046*\"กุ\" + 0.043*\"ไก่\" + 0.038*\"วะ\" + 0.034*\"พนักงาน\" + 0.028*\"แกร็บ\" + 0.021*\"อันนี้\" + 0.020*\"เรื่อง\" + 0.020*\"กร้าน\" + 0.019*\"ป่ะ\"'), (16, '0.038*\"โว้ย\" + 0.016*\"ห้าม\" + 0.016*\"ขายของ\" + 0.008*\"ดำ\" + 0.006*\"ง่า\" + 0.005*\"ดีขึ้น\" + 0.004*\"ตรวจสอบ\" + 0.003*\"เหงา\" + 0.003*\"วก\" + 0.003*\"ส้น\"'), (25, '0.001*\"ดูเหมือน\" + 0.000*\"ชนะ\" + 0.000*\"ความสะดวก\" + 0.000*\"วู้\" + 0.000*\"ข้างใน\" + 0.000*\"สุขภาพจิต\" + 0.000*\"ตกไป\" + 0.000*\"ภาระ\" + 0.000*\"เห็นแก่ได้\" + 0.000*\"ซ้ำเติม\"'), (24, '0.001*\"ดูเหมือน\" + 0.000*\"ชนะ\" + 0.000*\"ความสะดวก\" + 0.000*\"วู้\" + 0.000*\"ข้างใน\" + 0.000*\"สุขภาพจิต\" + 0.000*\"ภาระ\" + 0.000*\"ตกไป\" + 0.000*\"ซ้ำเติม\" + 0.000*\"เห็นแก่ได้\"'), (28, '0.001*\"ดูเหมือน\" + 0.000*\"ชนะ\" + 0.000*\"ความสะดวก\" + 0.000*\"วู้\" + 0.000*\"ข้างใน\" + 0.000*\"สุขภาพจิต\" + 0.000*\"เห็นแก่ได้\" + 0.000*\"ซ้ำเติม\" + 0.000*\"ภาระ\" + 0.000*\"ตกไป\"'), (14, '0.066*\"เงิน\" + 0.037*\"รอนาน\" + 0.034*\"หาย\" + 0.033*\"ตัด\" + 0.031*\"บัตร\" + 0.030*\"ไว\" + 0.027*\"งาน\" + 0.025*\"ตัดเงิน\" + 0.017*\"น้ำมัน\" + 0.016*\"หงุดหงิด\"'), (34, '0.072*\"หิว\" + 0.066*\"แอพ\" + 0.044*\"ดู\" + 0.043*\"แม่\" + 0.038*\"ลอง\" + 0.033*\"เวลา\" + 0.031*\"ระบบ\" + 0.024*\"อี\" + 0.018*\"อย่า\" + 0.016*\"มีปัญหา\"'), (11, '0.063*\"รอบ\" + 0.036*\"ครั้งแรก\" + 0.036*\"ไม่ครบ\" + 0.035*\"สอง\" + 0.031*\"แจ้ง\" + 0.030*\"น้ำ\" + 0.028*\"รีวิว\" + 0.027*\"ข้อความ\" + 0.026*\"ติด\" + 0.022*\"กลับมา\"'), (23, '0.048*\"รถ\" + 0.032*\"โคตร\" + 0.030*\"ขับรถ\" + 0.025*\"เหมือนเดิม\" + 0.024*\"แย่\" + 0.022*\"กี่\" + 0.020*\"กลัว\" + 0.015*\"ซอย\" + 0.012*\"ดัน\" + 0.011*\"บ่าย\"'), (35, '0.001*\"ดูเหมือน\" + 0.000*\"ชนะ\" + 0.000*\"ความสะดวก\" + 0.000*\"วู้\" + 0.000*\"ข้างใน\" + 0.000*\"สุขภาพจิต\" + 0.000*\"เห็นแก่ได้\" + 0.000*\"ซ้ำเติม\" + 0.000*\"ภาระ\" + 0.000*\"ตกไป\"'), (18, '0.001*\"ดูเหมือน\" + 0.000*\"ชนะ\" + 0.000*\"ความสะดวก\" + 0.000*\"วู้\" + 0.000*\"ข้างใน\" + 0.000*\"สุขภาพจิต\" + 0.000*\"ตกไป\" + 0.000*\"ภาระ\" + 0.000*\"เห็นแก่ได้\" + 0.000*\"ซ้ำเติม\"'), (0, '0.141*\"ทำ\" + 0.021*\"มอ\" + 0.020*\"หัก\" + 0.017*\"พื้นที่\" + 0.011*\"บัญชี\" + 0.010*\"นุ\" + 0.009*\"ดีใจ\" + 0.008*\"สำเร็จ\" + 0.008*\"จังหวัด\" + 0.007*\"วิกฤต\"')]\n"
     ]
    }
   ],
   "source": [
    "print(lda_model.print_topics())"
   ]
  },
  {
   "cell_type": "code",
   "execution_count": 30,
   "metadata": {},
   "outputs": [],
   "source": [
    "def format_topics_sentences_old(ldamodel, corpus, texts):\n",
    "    # Init output\n",
    "    sent_topics_df = pd.DataFrame()\n",
    "\n",
    "    # Get main topic in each document\n",
    "    for i, row in enumerate(ldamodel[corpus]):\n",
    "        row = sorted(row[0], key=lambda x: (x[1]), reverse=True)\n",
    "       \n",
    "        # Get the Dominant topic, Perc Contribution and Keywords for each document\n",
    "        for j, (topic_num, prop_topic) in enumerate(row):\n",
    "            if j == 0:  # => dominant topic\n",
    "                wp = ldamodel.show_topic(topic_num)\n",
    "                topic_keywords = \", \".join([word for word, prop in wp])\n",
    "                sent_topics_df = sent_topics_df.append(pd.Series([int(topic_num), round(prop_topic,4), topic_keywords]), ignore_index=True)\n",
    "            else:\n",
    "                break\n",
    "    sent_topics_df.columns = ['Dominant_Topic', 'Perc_Contribution', 'Topic_Keywords']\n",
    "\n",
    "    # Add original text to the end of the output\n",
    "    contents = pd.Series(texts)\n",
    "    sent_topics_df = pd.concat([sent_topics_df, contents], axis=1)\n",
    "    return(sent_topics_df)"
   ]
  },
  {
   "cell_type": "code",
   "execution_count": 31,
   "metadata": {},
   "outputs": [],
   "source": [
    "common_corpus_test = [common_dictionary.doc2bow(text) for text in X_test]"
   ]
  },
  {
   "cell_type": "code",
   "execution_count": 32,
   "metadata": {
    "scrolled": true
   },
   "outputs": [],
   "source": [
    "df_dominant_topic = format_topics_sentences_old(ldamodel=lda_model, corpus=common_corpus_test, texts=X_test)"
   ]
  },
  {
   "cell_type": "code",
   "execution_count": 33,
   "metadata": {},
   "outputs": [],
   "source": [
    "df_dominant_topic = df_dominant_topic.reset_index()"
   ]
  },
  {
   "cell_type": "code",
   "execution_count": 34,
   "metadata": {},
   "outputs": [],
   "source": [
    "df_dominant_topic.columns = ['Document_No', 'Dominant_Topic', 'Topic_Perc_Contrib', 'Topic_Keywords', 'Text_preprocessed']"
   ]
  },
  {
   "cell_type": "code",
   "execution_count": 35,
   "metadata": {
    "scrolled": true
   },
   "outputs": [
    {
     "data": {
      "text/html": [
       "<div>\n",
       "<style scoped>\n",
       "    .dataframe tbody tr th:only-of-type {\n",
       "        vertical-align: middle;\n",
       "    }\n",
       "\n",
       "    .dataframe tbody tr th {\n",
       "        vertical-align: top;\n",
       "    }\n",
       "\n",
       "    .dataframe thead th {\n",
       "        text-align: right;\n",
       "    }\n",
       "</style>\n",
       "<table border=\"1\" class=\"dataframe\">\n",
       "  <thead>\n",
       "    <tr style=\"text-align: right;\">\n",
       "      <th></th>\n",
       "      <th>Document_No</th>\n",
       "      <th>Dominant_Topic</th>\n",
       "      <th>Topic_Perc_Contrib</th>\n",
       "      <th>Topic_Keywords</th>\n",
       "      <th>Text_preprocessed</th>\n",
       "    </tr>\n",
       "  </thead>\n",
       "  <tbody>\n",
       "    <tr>\n",
       "      <th>0</th>\n",
       "      <td>0</td>\n",
       "      <td>37.0</td>\n",
       "      <td>0.1086</td>\n",
       "      <td>พี่, นะคะ, แมน, ไลน์, คน, น่ารัก, ขอบคุณ, เหมื...</td>\n",
       "      <td>[พีค, สั่ง, ซื้อ, น้ำเปล่า, เข้ามา, ขี้เกียจ, ...</td>\n",
       "    </tr>\n",
       "    <tr>\n",
       "      <th>1</th>\n",
       "      <td>1</td>\n",
       "      <td>3.0</td>\n",
       "      <td>0.1859</td>\n",
       "      <td>สั่ง, ไม่ได้, รอ, คนขับ, ยกเลิก, ออเดอร์, โทร,...</td>\n",
       "      <td>[ออเดอร์, ลูกค้า, ซ้อน, หรอ, รู้, สั่ง, ชา, นม...</td>\n",
       "    </tr>\n",
       "    <tr>\n",
       "      <th>2</th>\n",
       "      <td>2</td>\n",
       "      <td>22.0</td>\n",
       "      <td>0.1609</td>\n",
       "      <td>บาท, สั่ง, ค่าส่ง, ลด, โค้ด, ส่วนลด, ราคา, ค่า...</td>\n",
       "      <td>[สั่ง, เค, ซี, ฟู้ด, ลด, โค้ด, ลด, ดือ, ออ]</td>\n",
       "    </tr>\n",
       "    <tr>\n",
       "      <th>3</th>\n",
       "      <td>3</td>\n",
       "      <td>3.0</td>\n",
       "      <td>0.1375</td>\n",
       "      <td>สั่ง, ไม่ได้, รอ, คนขับ, ยกเลิก, ออเดอร์, โทร,...</td>\n",
       "      <td>[ราเม็ง, ข้อสอบ, สั่ง, สะดวก, ดี, นาที, กิน]</td>\n",
       "    </tr>\n",
       "    <tr>\n",
       "      <th>4</th>\n",
       "      <td>4</td>\n",
       "      <td>32.0</td>\n",
       "      <td>0.1177</td>\n",
       "      <td>อาหาร, ติดต่อ, เบอร์, แอป, ทัก, สักพัก, รับผิด...</td>\n",
       "      <td>[ตู, โดน, ขโมย, เบอร์, นัง, ระบบ, รู้, โง่, ทอ...</td>\n",
       "    </tr>\n",
       "    <tr>\n",
       "      <th>...</th>\n",
       "      <td>...</td>\n",
       "      <td>...</td>\n",
       "      <td>...</td>\n",
       "      <td>...</td>\n",
       "      <td>...</td>\n",
       "    </tr>\n",
       "    <tr>\n",
       "      <th>683</th>\n",
       "      <td>683</td>\n",
       "      <td>3.0</td>\n",
       "      <td>0.2820</td>\n",
       "      <td>สั่ง, ไม่ได้, รอ, คนขับ, ยกเลิก, ออเดอร์, โทร,...</td>\n",
       "      <td>[อีกแล้ว, ฟู้ด, ไม่ได้อาหาร, อีกแล้ว, งง, จ่าย...</td>\n",
       "    </tr>\n",
       "    <tr>\n",
       "      <th>684</th>\n",
       "      <td>684</td>\n",
       "      <td>37.0</td>\n",
       "      <td>0.1087</td>\n",
       "      <td>พี่, นะคะ, แมน, ไลน์, คน, น่ารัก, ขอบคุณ, เหมื...</td>\n",
       "      <td>[เอ่อ, สภาพ, คน, กิน, ไหม, อะ]</td>\n",
       "    </tr>\n",
       "    <tr>\n",
       "      <th>685</th>\n",
       "      <td>685</td>\n",
       "      <td>30.0</td>\n",
       "      <td>0.1417</td>\n",
       "      <td>อะ, ซื้อ, จ่าย, เงินสด, ดีกว่า, คนเดียว, ตัวเอ...</td>\n",
       "      <td>[สั่งอาหาร, จ่าย, แบบนี้, ยอดเงิน, คงเหลือ, พอ...</td>\n",
       "    </tr>\n",
       "    <tr>\n",
       "      <th>686</th>\n",
       "      <td>686</td>\n",
       "      <td>1.0</td>\n",
       "      <td>0.1600</td>\n",
       "      <td>แถม, ชา, แก้ว, นม, น้า, โปร, ไข่มุก, เดือน, เว...</td>\n",
       "      <td>[อี, ผู้ประกอบการ, แถม, แอพ, เหมือน, อีแก, ฟู้...</td>\n",
       "    </tr>\n",
       "    <tr>\n",
       "      <th>687</th>\n",
       "      <td>687</td>\n",
       "      <td>22.0</td>\n",
       "      <td>0.1523</td>\n",
       "      <td>บาท, สั่ง, ค่าส่ง, ลด, โค้ด, ส่วนลด, ราคา, ค่า...</td>\n",
       "      <td>[เมนู, สั่ง, นะคะ, ค่าส่ง, เริ่มต้น, บาท, ตอนน...</td>\n",
       "    </tr>\n",
       "  </tbody>\n",
       "</table>\n",
       "<p>688 rows × 5 columns</p>\n",
       "</div>"
      ],
      "text/plain": [
       "     Document_No  Dominant_Topic  Topic_Perc_Contrib  \\\n",
       "0              0            37.0              0.1086   \n",
       "1              1             3.0              0.1859   \n",
       "2              2            22.0              0.1609   \n",
       "3              3             3.0              0.1375   \n",
       "4              4            32.0              0.1177   \n",
       "..           ...             ...                 ...   \n",
       "683          683             3.0              0.2820   \n",
       "684          684            37.0              0.1087   \n",
       "685          685            30.0              0.1417   \n",
       "686          686             1.0              0.1600   \n",
       "687          687            22.0              0.1523   \n",
       "\n",
       "                                        Topic_Keywords  \\\n",
       "0    พี่, นะคะ, แมน, ไลน์, คน, น่ารัก, ขอบคุณ, เหมื...   \n",
       "1    สั่ง, ไม่ได้, รอ, คนขับ, ยกเลิก, ออเดอร์, โทร,...   \n",
       "2    บาท, สั่ง, ค่าส่ง, ลด, โค้ด, ส่วนลด, ราคา, ค่า...   \n",
       "3    สั่ง, ไม่ได้, รอ, คนขับ, ยกเลิก, ออเดอร์, โทร,...   \n",
       "4    อาหาร, ติดต่อ, เบอร์, แอป, ทัก, สักพัก, รับผิด...   \n",
       "..                                                 ...   \n",
       "683  สั่ง, ไม่ได้, รอ, คนขับ, ยกเลิก, ออเดอร์, โทร,...   \n",
       "684  พี่, นะคะ, แมน, ไลน์, คน, น่ารัก, ขอบคุณ, เหมื...   \n",
       "685  อะ, ซื้อ, จ่าย, เงินสด, ดีกว่า, คนเดียว, ตัวเอ...   \n",
       "686  แถม, ชา, แก้ว, นม, น้า, โปร, ไข่มุก, เดือน, เว...   \n",
       "687  บาท, สั่ง, ค่าส่ง, ลด, โค้ด, ส่วนลด, ราคา, ค่า...   \n",
       "\n",
       "                                     Text_preprocessed  \n",
       "0    [พีค, สั่ง, ซื้อ, น้ำเปล่า, เข้ามา, ขี้เกียจ, ...  \n",
       "1    [ออเดอร์, ลูกค้า, ซ้อน, หรอ, รู้, สั่ง, ชา, นม...  \n",
       "2          [สั่ง, เค, ซี, ฟู้ด, ลด, โค้ด, ลด, ดือ, ออ]  \n",
       "3         [ราเม็ง, ข้อสอบ, สั่ง, สะดวก, ดี, นาที, กิน]  \n",
       "4    [ตู, โดน, ขโมย, เบอร์, นัง, ระบบ, รู้, โง่, ทอ...  \n",
       "..                                                 ...  \n",
       "683  [อีกแล้ว, ฟู้ด, ไม่ได้อาหาร, อีกแล้ว, งง, จ่าย...  \n",
       "684                     [เอ่อ, สภาพ, คน, กิน, ไหม, อะ]  \n",
       "685  [สั่งอาหาร, จ่าย, แบบนี้, ยอดเงิน, คงเหลือ, พอ...  \n",
       "686  [อี, ผู้ประกอบการ, แถม, แอพ, เหมือน, อีแก, ฟู้...  \n",
       "687  [เมนู, สั่ง, นะคะ, ค่าส่ง, เริ่มต้น, บาท, ตอนน...  \n",
       "\n",
       "[688 rows x 5 columns]"
      ]
     },
     "execution_count": 35,
     "metadata": {},
     "output_type": "execute_result"
    }
   ],
   "source": [
    "df_dominant_topic"
   ]
  },
  {
   "cell_type": "code",
   "execution_count": 58,
   "metadata": {},
   "outputs": [
    {
     "data": {
      "text/plain": [
       "0    พี่, นะคะ, แมน, ไลน์, คน, น่ารัก, ขอบคุณ, เหมื...\n",
       "1    สั่ง, ไม่ได้, รอ, คนขับ, ยกเลิก, ออเดอร์, โทร,...\n",
       "Name: Topic_Keywords, dtype: object"
      ]
     },
     "execution_count": 58,
     "metadata": {},
     "output_type": "execute_result"
    }
   ],
   "source": [
    "df_dominant_topic['Topic_Keywords'][0:2]"
   ]
  },
  {
   "cell_type": "markdown",
   "metadata": {},
   "source": [
    "## Word2Vec"
   ]
  },
  {
   "cell_type": "code",
   "execution_count": 36,
   "metadata": {},
   "outputs": [],
   "source": [
    "model = Word2Vec(df['preprocessed'])"
   ]
  },
  {
   "cell_type": "code",
   "execution_count": 37,
   "metadata": {},
   "outputs": [],
   "source": [
    "System_ = 'ปิด ปิดร้าน ชั่วคราว ระบบ ตัดเงิน ตัดบัตร เป็นอะไร พัง ค้าง ล่ม เสีย สั่งไม่ได้ เด้ง พัฒนา หักเงิน แอป แอพ ปัก ปักหมุด พิกัด ใช้ยาก ใช้ง่าย พัฒนา ไม่ตรง แผนที่'"
   ]
  },
  {
   "cell_type": "code",
   "execution_count": 38,
   "metadata": {
    "scrolled": true
   },
   "outputs": [],
   "source": [
    "System_Aspect = System_.split(' ')"
   ]
  },
  {
   "cell_type": "code",
   "execution_count": 39,
   "metadata": {},
   "outputs": [],
   "source": [
    "Company_ = 'คอลเซนเตอร์ รับผิดชอบ เบอร์ ติดต่อ สื่อสาร โทร เมล ไม่ได้เงินคืน ร้องเรียน ไม่สนใจ เพิกเฉย รอสาย ตัดสาย บริการ ด่วน เมล โทร ศูนย์บริการ เจ้าหน้าที่ ปัญหา ชดเชย เลิกใช้ แบน บริษัท ตัดบัตร โกงเงิน บัญชี เลิกใช้ แคนเซิล สั่งทุกวัน ลบ รัก'"
   ]
  },
  {
   "cell_type": "code",
   "execution_count": 40,
   "metadata": {},
   "outputs": [],
   "source": [
    "Company_Aspect = Company_.split(' ')"
   ]
  },
  {
   "cell_type": "code",
   "execution_count": 41,
   "metadata": {},
   "outputs": [],
   "source": [
    "Price_ = 'ราคา ค่าส่ง ส่วนลด โปรโมชั่น คุ้มค่า ไม่คุ้ม แพง ถูก ลด โปร บอกต่อ คุ้ม ค่าบริการ ใช้ไม่ได้ ใช้งานไม่ได้ คุณภาพ ใช้ได้ ซื้อ ขั้นต่ำ ส่งฟรี แกง บาท ส่วนต่าง ลูกค้าใหม่ โค้ด เพิ่ม'"
   ]
  },
  {
   "cell_type": "code",
   "execution_count": 42,
   "metadata": {},
   "outputs": [],
   "source": [
    "Price_Aspect = Price_.split(' ')"
   ]
  },
  {
   "cell_type": "code",
   "execution_count": 43,
   "metadata": {},
   "outputs": [],
   "source": [
    "Employee_ = 'ยกเลิก รอ ช้า นาน ไม่ได้รับ ไม่ได้อาหาร ปัญหา รอเพิ่ม ผู้ส่ง พนักงาน คนขับ อบรม มารยาท คำพูด รอนาน บริการ นิสัย เละเทะ ไม่รับสาย ส่ง ไรเดอร์ เสีย คน ติดต่อ ไม่ครบ ขาด หาย ส่งช้า ไม่ครบ คนส่ง ไม่ครบ พนง สุภาพ นาที'"
   ]
  },
  {
   "cell_type": "code",
   "execution_count": 44,
   "metadata": {},
   "outputs": [],
   "source": [
    "Employee_Aspect = Employee_.split(' ')"
   ]
  },
  {
   "cell_type": "code",
   "execution_count": 45,
   "metadata": {},
   "outputs": [],
   "source": [
    "list_aspect = []\n",
    "for term in df_dominant_topic['Topic_Keywords']: \n",
    "    likelihoods = []\n",
    "    for aspect in [System_Aspect,Company_Aspect,Price_Aspect,Employee_Aspect]:\n",
    "        likelihood = 0\n",
    "        for word in term.split(', '):\n",
    "            system_sim = [0]\n",
    "            for keyword in aspect:\n",
    "                try:\n",
    "                    sim = model.wv.similarity(word, keyword)\n",
    "                    system_sim.append(sim)\n",
    "                except KeyError:\n",
    "                    pass\n",
    "            max_system_sim = max(system_sim)\n",
    "            likelihood += max_system_sim\n",
    "        likelihoods.append(likelihood)\n",
    "    max_likelihoods = np.argmax(likelihoods)\n",
    "    list_aspect.append(max_likelihoods)\n"
   ]
  },
  {
   "cell_type": "code",
   "execution_count": 46,
   "metadata": {},
   "outputs": [],
   "source": [
    "result_predict_aspect = pd.DataFrame(y_test)"
   ]
  },
  {
   "cell_type": "code",
   "execution_count": 47,
   "metadata": {},
   "outputs": [],
   "source": [
    "result_predict_aspect['Predicted'] = list_aspect"
   ]
  },
  {
   "cell_type": "code",
   "execution_count": 48,
   "metadata": {},
   "outputs": [],
   "source": [
    "name_dict = {0:'System',1:'Company',2:'Price',3:'Employee'}"
   ]
  },
  {
   "cell_type": "code",
   "execution_count": 49,
   "metadata": {},
   "outputs": [],
   "source": [
    "result_predict_aspect['Predicted_Aspect'] = result_predict_aspect['Predicted'].map(name_dict)"
   ]
  },
  {
   "cell_type": "code",
   "execution_count": 50,
   "metadata": {},
   "outputs": [],
   "source": [
    "result_predict_aspect[['Topic','Keyword']] = df_dominant_topic[['Dominant_Topic','Topic_Keywords']]"
   ]
  },
  {
   "cell_type": "code",
   "execution_count": 51,
   "metadata": {
    "scrolled": true
   },
   "outputs": [
    {
     "data": {
      "text/html": [
       "<div>\n",
       "<style scoped>\n",
       "    .dataframe tbody tr th:only-of-type {\n",
       "        vertical-align: middle;\n",
       "    }\n",
       "\n",
       "    .dataframe tbody tr th {\n",
       "        vertical-align: top;\n",
       "    }\n",
       "\n",
       "    .dataframe thead th {\n",
       "        text-align: right;\n",
       "    }\n",
       "</style>\n",
       "<table border=\"1\" class=\"dataframe\">\n",
       "  <thead>\n",
       "    <tr style=\"text-align: right;\">\n",
       "      <th></th>\n",
       "      <th>tweet</th>\n",
       "      <th>Aspect</th>\n",
       "      <th>Predicted</th>\n",
       "      <th>Predicted_Aspect</th>\n",
       "      <th>Topic</th>\n",
       "      <th>Keyword</th>\n",
       "    </tr>\n",
       "  </thead>\n",
       "  <tbody>\n",
       "    <tr>\n",
       "      <th>0</th>\n",
       "      <td>พีคสุดคือการสั่งให้ซื้อน้ำเปล่าเข้ามาให้เนี่ย\\...</td>\n",
       "      <td>Employee</td>\n",
       "      <td>3</td>\n",
       "      <td>Employee</td>\n",
       "      <td>37.0</td>\n",
       "      <td>พี่, นะคะ, แมน, ไลน์, คน, น่ารัก, ขอบคุณ, เหมื...</td>\n",
       "    </tr>\n",
       "    <tr>\n",
       "      <th>1</th>\n",
       "      <td>#foodpanda รับออเดอร์ลูกค้าซ้อนกันได้ด้วยหรอค่...</td>\n",
       "      <td>Employee</td>\n",
       "      <td>3</td>\n",
       "      <td>Employee</td>\n",
       "      <td>3.0</td>\n",
       "      <td>สั่ง, ไม่ได้, รอ, คนขับ, ยกเลิก, ออเดอร์, โทร,...</td>\n",
       "    </tr>\n",
       "    <tr>\n",
       "      <th>2</th>\n",
       "      <td>สั่งเคฟซีจากฟู้ดแพนด้าลดจาก220 เหลือ149 ใช้โค้...</td>\n",
       "      <td>Price</td>\n",
       "      <td>2</td>\n",
       "      <td>Price</td>\n",
       "      <td>22.0</td>\n",
       "      <td>บาท, สั่ง, ค่าส่ง, ลด, โค้ด, ส่วนลด, ราคา, ค่า...</td>\n",
       "    </tr>\n",
       "    <tr>\n",
       "      <th>3</th>\n",
       "      <td>ราเม็งข้อสอบ .. ฟินนน... \\nสั่ง GrabFood  สะดว...</td>\n",
       "      <td>Company</td>\n",
       "      <td>3</td>\n",
       "      <td>Employee</td>\n",
       "      <td>3.0</td>\n",
       "      <td>สั่ง, ไม่ได้, รอ, คนขับ, ยกเลิก, ออเดอร์, โทร,...</td>\n",
       "    </tr>\n",
       "    <tr>\n",
       "      <th>4</th>\n",
       "      <td>ส่วนตูโดนขโมยเบอร์ไปใช้จ้า นังระบบ #foodpanda ...</td>\n",
       "      <td>Company</td>\n",
       "      <td>1</td>\n",
       "      <td>Company</td>\n",
       "      <td>32.0</td>\n",
       "      <td>อาหาร, ติดต่อ, เบอร์, แอป, ทัก, สักพัก, รับผิด...</td>\n",
       "    </tr>\n",
       "    <tr>\n",
       "      <th>...</th>\n",
       "      <td>...</td>\n",
       "      <td>...</td>\n",
       "      <td>...</td>\n",
       "      <td>...</td>\n",
       "      <td>...</td>\n",
       "      <td>...</td>\n",
       "    </tr>\n",
       "    <tr>\n",
       "      <th>683</th>\n",
       "      <td>อีกแล้วนะฟู้ดแพนด้า ไม่ได้อาหารอีกแล้ว แต่ขึ้น...</td>\n",
       "      <td>Company</td>\n",
       "      <td>3</td>\n",
       "      <td>Employee</td>\n",
       "      <td>3.0</td>\n",
       "      <td>สั่ง, ไม่ได้, รอ, คนขับ, ยกเลิก, ออเดอร์, โทร,...</td>\n",
       "    </tr>\n",
       "    <tr>\n",
       "      <th>684</th>\n",
       "      <td>เอ่อ สภาพนี่ให้คนกินไหมอะคะ #lineman  pic.twit...</td>\n",
       "      <td>Employee</td>\n",
       "      <td>3</td>\n",
       "      <td>Employee</td>\n",
       "      <td>37.0</td>\n",
       "      <td>พี่, นะคะ, แมน, ไลน์, คน, น่ารัก, ขอบคุณ, เหมื...</td>\n",
       "    </tr>\n",
       "    <tr>\n",
       "      <th>685</th>\n",
       "      <td>จะสั่งอาหาร จ่ายผ่าน Grabpay มันเป็นแบบนี้ตั้ง...</td>\n",
       "      <td>System</td>\n",
       "      <td>1</td>\n",
       "      <td>Company</td>\n",
       "      <td>30.0</td>\n",
       "      <td>อะ, ซื้อ, จ่าย, เงินสด, ดีกว่า, คนเดียว, ตัวเอ...</td>\n",
       "    </tr>\n",
       "    <tr>\n",
       "      <th>686</th>\n",
       "      <td>อี #foodpanda ก็คือถูกกว่าจริง friendly กับผู้...</td>\n",
       "      <td>Company</td>\n",
       "      <td>2</td>\n",
       "      <td>Price</td>\n",
       "      <td>1.0</td>\n",
       "      <td>แถม, ชา, แก้ว, นม, น้า, โปร, ไข่มุก, เดือน, เว...</td>\n",
       "    </tr>\n",
       "    <tr>\n",
       "      <th>687</th>\n",
       "      <td>ทุกเมนูของ O's coffee สั่งได้ทาง #LineMan นะคะ...</td>\n",
       "      <td>Price</td>\n",
       "      <td>2</td>\n",
       "      <td>Price</td>\n",
       "      <td>22.0</td>\n",
       "      <td>บาท, สั่ง, ค่าส่ง, ลด, โค้ด, ส่วนลด, ราคา, ค่า...</td>\n",
       "    </tr>\n",
       "  </tbody>\n",
       "</table>\n",
       "<p>688 rows × 6 columns</p>\n",
       "</div>"
      ],
      "text/plain": [
       "                                                 tweet    Aspect  Predicted  \\\n",
       "0    พีคสุดคือการสั่งให้ซื้อน้ำเปล่าเข้ามาให้เนี่ย\\...  Employee          3   \n",
       "1    #foodpanda รับออเดอร์ลูกค้าซ้อนกันได้ด้วยหรอค่...  Employee          3   \n",
       "2    สั่งเคฟซีจากฟู้ดแพนด้าลดจาก220 เหลือ149 ใช้โค้...     Price          2   \n",
       "3    ราเม็งข้อสอบ .. ฟินนน... \\nสั่ง GrabFood  สะดว...   Company          3   \n",
       "4    ส่วนตูโดนขโมยเบอร์ไปใช้จ้า นังระบบ #foodpanda ...   Company          1   \n",
       "..                                                 ...       ...        ...   \n",
       "683  อีกแล้วนะฟู้ดแพนด้า ไม่ได้อาหารอีกแล้ว แต่ขึ้น...   Company          3   \n",
       "684  เอ่อ สภาพนี่ให้คนกินไหมอะคะ #lineman  pic.twit...  Employee          3   \n",
       "685  จะสั่งอาหาร จ่ายผ่าน Grabpay มันเป็นแบบนี้ตั้ง...    System          1   \n",
       "686  อี #foodpanda ก็คือถูกกว่าจริง friendly กับผู้...   Company          2   \n",
       "687  ทุกเมนูของ O's coffee สั่งได้ทาง #LineMan นะคะ...     Price          2   \n",
       "\n",
       "    Predicted_Aspect  Topic                                            Keyword  \n",
       "0           Employee   37.0  พี่, นะคะ, แมน, ไลน์, คน, น่ารัก, ขอบคุณ, เหมื...  \n",
       "1           Employee    3.0  สั่ง, ไม่ได้, รอ, คนขับ, ยกเลิก, ออเดอร์, โทร,...  \n",
       "2              Price   22.0  บาท, สั่ง, ค่าส่ง, ลด, โค้ด, ส่วนลด, ราคา, ค่า...  \n",
       "3           Employee    3.0  สั่ง, ไม่ได้, รอ, คนขับ, ยกเลิก, ออเดอร์, โทร,...  \n",
       "4            Company   32.0  อาหาร, ติดต่อ, เบอร์, แอป, ทัก, สักพัก, รับผิด...  \n",
       "..               ...    ...                                                ...  \n",
       "683         Employee    3.0  สั่ง, ไม่ได้, รอ, คนขับ, ยกเลิก, ออเดอร์, โทร,...  \n",
       "684         Employee   37.0  พี่, นะคะ, แมน, ไลน์, คน, น่ารัก, ขอบคุณ, เหมื...  \n",
       "685          Company   30.0  อะ, ซื้อ, จ่าย, เงินสด, ดีกว่า, คนเดียว, ตัวเอ...  \n",
       "686            Price    1.0  แถม, ชา, แก้ว, นม, น้า, โปร, ไข่มุก, เดือน, เว...  \n",
       "687            Price   22.0  บาท, สั่ง, ค่าส่ง, ลด, โค้ด, ส่วนลด, ราคา, ค่า...  \n",
       "\n",
       "[688 rows x 6 columns]"
      ]
     },
     "execution_count": 51,
     "metadata": {},
     "output_type": "execute_result"
    }
   ],
   "source": [
    "result_predict_aspect"
   ]
  },
  {
   "cell_type": "code",
   "execution_count": 52,
   "metadata": {
    "scrolled": true
   },
   "outputs": [
    {
     "data": {
      "text/plain": [
       "0.5101744186046512"
      ]
     },
     "execution_count": 52,
     "metadata": {},
     "output_type": "execute_result"
    }
   ],
   "source": [
    "#accuracy of model\n",
    "np.average(result_predict_aspect['Aspect'] == result_predict_aspect['Predicted_Aspect'])"
   ]
  },
  {
   "cell_type": "code",
   "execution_count": 53,
   "metadata": {},
   "outputs": [],
   "source": [
    "from sklearn import metrics"
   ]
  },
  {
   "cell_type": "code",
   "execution_count": 54,
   "metadata": {},
   "outputs": [
    {
     "data": {
      "text/plain": [
       "0.12195751651222349"
      ]
     },
     "execution_count": 54,
     "metadata": {},
     "output_type": "execute_result"
    }
   ],
   "source": [
    "metrics.adjusted_rand_score(result_predict_aspect['Aspect'],result_predict_aspect['Predicted_Aspect'])"
   ]
  },
  {
   "cell_type": "code",
   "execution_count": 55,
   "metadata": {},
   "outputs": [],
   "source": [
    "from sklearn.metrics import classification_report, confusion_matrix"
   ]
  },
  {
   "cell_type": "code",
   "execution_count": 56,
   "metadata": {
    "scrolled": true
   },
   "outputs": [
    {
     "name": "stdout",
     "output_type": "stream",
     "text": [
      "              precision    recall  f1-score   support\n",
      "\n",
      "     Company       0.20      0.09      0.13       110\n",
      "    Employee       0.43      0.78      0.55       224\n",
      "       Price       0.79      0.60      0.68       248\n",
      "      System       0.42      0.17      0.24       106\n",
      "\n",
      "    accuracy                           0.51       688\n",
      "   macro avg       0.46      0.41      0.40       688\n",
      "weighted avg       0.52      0.51      0.48       688\n",
      "\n"
     ]
    }
   ],
   "source": [
    "print(classification_report(result_predict_aspect['Aspect'],result_predict_aspect['Predicted_Aspect']))"
   ]
  },
  {
   "cell_type": "code",
   "execution_count": null,
   "metadata": {},
   "outputs": [],
   "source": []
  }
 ],
 "metadata": {
  "kernelspec": {
   "display_name": "Python 3",
   "language": "python",
   "name": "python3"
  },
  "language_info": {
   "codemirror_mode": {
    "name": "ipython",
    "version": 3
   },
   "file_extension": ".py",
   "mimetype": "text/x-python",
   "name": "python",
   "nbconvert_exporter": "python",
   "pygments_lexer": "ipython3",
   "version": "3.7.6"
  },
  "toc": {
   "base_numbering": 1,
   "nav_menu": {},
   "number_sections": true,
   "sideBar": true,
   "skip_h1_title": true,
   "title_cell": "Table of Contents",
   "title_sidebar": "Contents",
   "toc_cell": true,
   "toc_position": {},
   "toc_section_display": true,
   "toc_window_display": false
  }
 },
 "nbformat": 4,
 "nbformat_minor": 4
}
